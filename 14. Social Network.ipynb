{
 "cells": [
  {
   "cell_type": "markdown",
   "id": "7a72db4a",
   "metadata": {},
   "source": [
    "## Pokemon 데이터 분석"
   ]
  },
  {
   "cell_type": "code",
   "execution_count": null,
   "id": "4a32412b",
   "metadata": {},
   "outputs": [],
   "source": [
    "# !pip install decorator==4.3"
   ]
  },
  {
   "cell_type": "code",
   "execution_count": null,
   "id": "e8916cb7",
   "metadata": {},
   "outputs": [],
   "source": [
    "import networkx as nx\n",
    "import pandas as pd\n",
    "import numpy as np\n",
    "import matplotlib.pyplot as plt"
   ]
  },
  {
   "cell_type": "code",
   "execution_count": null,
   "id": "623eaa08",
   "metadata": {},
   "outputs": [],
   "source": [
    "data = pd.read_csv('Pokemon.csv')\n",
    "data.head()"
   ]
  },
  {
   "cell_type": "code",
   "execution_count": null,
   "id": "14a5d372",
   "metadata": {},
   "outputs": [],
   "source": [
    "# Netwrok analysis\n",
    "g = nx.Graph()\n",
    "g = nx.from_pandas_edgelist(data, source = 'Name', target = 'Type 1')\n",
    "print(nx.info(g))"
   ]
  },
  {
   "cell_type": "code",
   "execution_count": null,
   "id": "c6373b69",
   "metadata": {},
   "outputs": [],
   "source": [
    "plt.figure(figsize = (30, 30))\n",
    "pos = nx.spring_layout(g, k = 0.15)\n",
    "nx.draw_networkx(g, pos, node_size = 30, node_color = 'blue')\n",
    "plt.show()"
   ]
  },
  {
   "cell_type": "markdown",
   "id": "17259820",
   "metadata": {},
   "source": [
    "[참고] spring_layout 함수 (reference -> https://networkx.org/documentation/stable/reference/generated/networkx.drawing.layot.spring_layout.html\n",
    "(https://networkx.org/documentation/stable/reference/generated/networkx.drawing.layout.spring_layout.html))\n",
    "- 노드의 위치를 계산하기 위해 노드와 에지를 고려\n",
    "- 단점은 계산 비용이 높음 (속도가 느림)"
   ]
  },
  {
   "cell_type": "markdown",
   "id": "f4917a1c",
   "metadata": {},
   "source": [
    "## 왕좌의 게임 등장인물 관계망 분석"
   ]
  },
  {
   "cell_type": "code",
   "execution_count": null,
   "id": "c57dc2d2",
   "metadata": {},
   "outputs": [],
   "source": [
    "df = pd.read_csv('asoiaf-all-edges.csv')\n",
    "df"
   ]
  },
  {
   "cell_type": "code",
   "execution_count": null,
   "id": "f639a2bb",
   "metadata": {},
   "outputs": [],
   "source": [
    "G = nx.from_pandas_edgelist(df, source = 'Source', target = 'Target')\n",
    "\n",
    "print(len(G.nodes())) # 797\n",
    "print(len(G.edges())) # 2824"
   ]
  },
  {
   "cell_type": "code",
   "execution_count": null,
   "id": "3639daf8",
   "metadata": {},
   "outputs": [],
   "source": [
    "deg_cen = nx.degree_centrality(G)"
   ]
  },
  {
   "cell_type": "code",
   "execution_count": null,
   "id": "3a0a5594",
   "metadata": {},
   "outputs": [],
   "source": [
    "deg_cen"
   ]
  },
  {
   "cell_type": "code",
   "execution_count": null,
   "id": "a950c287",
   "metadata": {},
   "outputs": [],
   "source": [
    "sorted(deg_cen.items(), key = lambda x : x[1], reverse = True)[0:5]"
   ]
  },
  {
   "cell_type": "code",
   "execution_count": null,
   "id": "e811c79b",
   "metadata": {},
   "outputs": [],
   "source": [
    "page_rank = nx.pagerank(G)\n",
    "sorted(page_rank.items(), key = lambda x : x[1], reverse = True)[0:5]"
   ]
  },
  {
   "cell_type": "code",
   "execution_count": null,
   "id": "b9d217ff",
   "metadata": {},
   "outputs": [],
   "source": [
    "clos_cen = nx.closeness_centrality(G)\n",
    "sorted(clos_cen.items(), key = lambda x : x[1], reverse = True)[0:5]"
   ]
  },
  {
   "cell_type": "code",
   "execution_count": null,
   "id": "8b10ed43",
   "metadata": {},
   "outputs": [],
   "source": [
    "bet_cen = nx.betweenness_centrality(G)\n",
    "sorted(bet_cen.items(), key = lambda x : x[1], reverse = True)[0:5]"
   ]
  },
  {
   "cell_type": "markdown",
   "id": "2c9fb051",
   "metadata": {},
   "source": [
    "## facebook network analysis"
   ]
  },
  {
   "cell_type": "markdown",
   "id": "e14af0db",
   "metadata": {},
   "source": [
    "- data download --> Stanford Large Network Dataset Collection (http://snap.stanford.edu/data/index.html  (http://snap.stanford.edu/data/index.html))"
   ]
  },
  {
   "cell_type": "code",
   "execution_count": null,
   "id": "7de2c338",
   "metadata": {},
   "outputs": [],
   "source": [
    "facebook = pd.read_csv('facebook_combined.txt.gz', compression = 'gzip', names = ['start_node', 'end_node'])\n",
    "facebook"
   ]
  },
  {
   "cell_type": "markdown",
   "id": "d443048d",
   "metadata": {},
   "source": [
    "## 그래프 정의"
   ]
  },
  {
   "cell_type": "code",
   "execution_count": null,
   "id": "dd1c469f",
   "metadata": {},
   "outputs": [],
   "source": [
    "G = nx.from_pandas_edgelist(facebook, 'start_node', 'end_node')"
   ]
  },
  {
   "cell_type": "markdown",
   "id": "33743feb",
   "metadata": {},
   "source": [
    "## 그래프 시각화"
   ]
  },
  {
   "cell_type": "code",
   "execution_count": null,
   "id": "50267667",
   "metadata": {},
   "outputs": [],
   "source": [
    "pos = nx.spring_layout(G, iterations = 15, seed = 1723)\n",
    "fig, ax = plt.subplots(figsize = (15, 9))\n",
    "ax.axis('off')\n",
    "plot_options = {'node_size' : 10, 'with_labels' : False, 'width' : 0.15}\n",
    "nx.draw_networkx(G, pos = pos, ax = ax, **plot_options)"
   ]
  },
  {
   "cell_type": "markdown",
   "id": "1d4bf058",
   "metadata": {},
   "source": [
    "## 그래프 형상(toplogical attributes) 분석"
   ]
  },
  {
   "cell_type": "code",
   "execution_count": null,
   "id": "c9df5559",
   "metadata": {},
   "outputs": [],
   "source": [
    "print('Nodes : ', G.number_of_nodes())"
   ]
  },
  {
   "cell_type": "code",
   "execution_count": null,
   "id": "7f9c335a",
   "metadata": {},
   "outputs": [],
   "source": [
    "print('Edges : ', G.number_of_edges())"
   ]
  },
  {
   "cell_type": "code",
   "execution_count": null,
   "id": "298ce657",
   "metadata": {},
   "outputs": [],
   "source": [
    "# maximum shortest paths --> diameter\n",
    "\n",
    "shortest_path_lengths = dict(nx.all_pairs_shortest_path_length(G))\n",
    "diameter = max(nx.eccentricity(G, sp = shortest_path_lengths).values())\n",
    "diameter"
   ]
  },
  {
   "cell_type": "code",
   "execution_count": null,
   "id": "09b65732",
   "metadata": {},
   "outputs": [],
   "source": [
    "# Compute the avearge shortest path length for each node\n",
    "\n",
    "average_path_lengths = [\n",
    "    np.mean(list(spl.values())) for spl in shortest_path_lengths.values()\n",
    "]\n",
    "\n",
    "# The avearge over all nodes\n",
    "np.mean(avearge_path_lengths)"
   ]
  },
  {
   "cell_type": "code",
   "execution_count": null,
   "id": "35da3931",
   "metadata": {},
   "outputs": [],
   "source": [
    "# create an array to store values from 0 up to (and including) diameter\n",
    "path_lengths = np.zeros(diameter + 1, dtype = int)\n",
    "path_lengths"
   ]
  },
  {
   "cell_type": "code",
   "execution_count": null,
   "id": "ae8a64be",
   "metadata": {},
   "outputs": [],
   "source": [
    "# Extract the frequency of shortest path lengths between two nodes\n",
    "for pls in shortest_path_lengths.values():\n",
    "    pl, cnts = np.unique(list(pls.values()), return_counts = True)\n",
    "    path_lengths[pl] += cnts\n",
    "    \n",
    "# Express frequency distribution as a percentage (ignoring path lengths of 0)\n",
    "freq_percent = 100 * path_lengths[1:] / path_lengths[1:].sum()\n",
    "\n",
    "# Plot the frequency distribution (ignoring path lengths of 0) as a percentage\n",
    "fig, ax = plt.subplots(figsize = (15, 8))\n",
    "ax.bar(np.arange(1, diameter +1), height = freq_percent)\n",
    "ax.set_title('Distribution of shortest path length in G', fontdict = {'size':35}, loc = 'center')\n",
    "ax.set_xlabel('Shortest Path Length', fontdict = {'size':22})\n",
    "ax.set_ylabel('Frequency (%)', fontdict = {'size':22})"
   ]
  },
  {
   "cell_type": "markdown",
   "id": "7d7a3ce0",
   "metadata": {},
   "source": [
    "## Centrality measures"
   ]
  },
  {
   "cell_type": "code",
   "execution_count": null,
   "id": "b5b04f01",
   "metadata": {},
   "outputs": [],
   "source": [
    "deg_cen = nx.degree_centrality(G)\n",
    "sorted(deg_cen.items(), key = lambda x : x[1], reverse = True)[0:10]"
   ]
  },
  {
   "cell_type": "code",
   "execution_count": null,
   "id": "90932e59",
   "metadata": {},
   "outputs": [],
   "source": [
    "bet_cen = nx.betweenness_centrality(G)\\\n",
    "sorted(bet_cen.items(), key = lambda x : x[1], reverse = True)[0:10]"
   ]
  },
  {
   "cell_type": "markdown",
   "id": "7f1b81ab",
   "metadata": {},
   "source": [
    "- 0, 107, 1684, 1912, 3437 노드는 높은 연결중심성과 매개중심성을 가지는 'influence' 노드로 볼 수 있음\n",
    "- 567, 1085, 698 노드는 매개중심성은 높지만 연결중심성은 높지 않음. 네트워크에서 이들 노드는 'popular users'는 아니지만정보의 전달에 있어서 중요 노드로 볼 수 있음"
   ]
  },
  {
   "cell_type": "code",
   "execution_count": null,
   "id": "ad162c44",
   "metadata": {},
   "outputs": [],
   "source": [
    "clos_cen = nx.closeness_centrality(G)\n",
    "sorted(clos_cen.items(), key = lambda x : x[1], reverse = True)[0:10]"
   ]
  },
  {
   "cell_type": "code",
   "execution_count": null,
   "id": "05841e5b",
   "metadata": {},
   "outputs": [],
   "source": [
    "eigen_cen = nx.eigenvector_centrality(G)\n",
    "sorted(eigen_cen.items(), key = lambda x : x[1], reverse = True)[0:10]"
   ]
  },
  {
   "cell_type": "markdown",
   "id": "d6899b30",
   "metadata": {},
   "source": [
    "- 1912 노드는 높은 고유벡터중심성을 가짐. 네트워크에 이 노드가 전반적인 영향력 면에서 매우 중요한 노드. 연결중심성, 매개중심성이 모두 높은 노드로, 'popular & influencious'\n",
    "- 나머지 노드들은 다른 중심성 지표는 높지 않으나 고유벡터중심성은 높음. 그 이유로 이들 노드들이 모두 1912 노드와 연결되어있을 가능성이 있음"
   ]
  },
  {
   "cell_type": "markdown",
   "id": "38e6ab92",
   "metadata": {},
   "source": [
    "참고\n",
    "- https://anweh.tistory.com/33 (https://anweh.tistory.com/33)\n",
    "- https://networkx.org/nx-guides/content/exploratory_notebooks/facebook_notebook.html (https://networkx.org/nxguides/content/exploratory_notebooks/facebook_notebook.html)"
   ]
  }
 ],
 "metadata": {
  "kernelspec": {
   "display_name": "Python 3",
   "language": "python",
   "name": "python3"
  },
  "language_info": {
   "codemirror_mode": {
    "name": "ipython",
    "version": 3
   },
   "file_extension": ".py",
   "mimetype": "text/x-python",
   "name": "python",
   "nbconvert_exporter": "python",
   "pygments_lexer": "ipython3",
   "version": "3.8.8"
  }
 },
 "nbformat": 4,
 "nbformat_minor": 5
}
