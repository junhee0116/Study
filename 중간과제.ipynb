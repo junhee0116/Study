{
 "cells": [
  {
   "cell_type": "code",
   "execution_count": 1,
   "metadata": {},
   "outputs": [],
   "source": [
    "import platform\n",
    "import pandas as pd\n",
    "import numpy as np\n",
    "import matplotlib.pyplot as plt\n",
    "from matplotlib import rc, font_manager\n",
    "%matplotlib inline\n",
    "\n",
    "if platform.system() == 'Windows':\n",
    "    path = \"c:\\Windows\\Fonts\\malgun.ttf\"\n",
    "    font_name = font_manager.FontProperties(fname=path).get_name()\n",
    "    rc('font', family=font_name)\n",
    "\n",
    "expert_data = pd.read_excel('국가별수출입 실적.xls')"
   ]
  },
  {
   "cell_type": "code",
   "execution_count": 93,
   "metadata": {
    "scrolled": true
   },
   "outputs": [
    {
     "data": {
      "text/html": [
       "<div>\n",
       "<style scoped>\n",
       "    .dataframe tbody tr th:only-of-type {\n",
       "        vertical-align: middle;\n",
       "    }\n",
       "\n",
       "    .dataframe tbody tr th {\n",
       "        vertical-align: top;\n",
       "    }\n",
       "\n",
       "    .dataframe thead th {\n",
       "        text-align: right;\n",
       "    }\n",
       "</style>\n",
       "<table border=\"1\" class=\"dataframe\">\n",
       "  <thead>\n",
       "    <tr style=\"text-align: right;\">\n",
       "      <th></th>\n",
       "      <th>기간</th>\n",
       "      <th>수출건수</th>\n",
       "      <th>수출금액</th>\n",
       "      <th>수입건수</th>\n",
       "      <th>수입금액</th>\n",
       "      <th>무역수지</th>\n",
       "    </tr>\n",
       "    <tr>\n",
       "      <th>국가명</th>\n",
       "      <th></th>\n",
       "      <th></th>\n",
       "      <th></th>\n",
       "      <th></th>\n",
       "      <th></th>\n",
       "      <th></th>\n",
       "    </tr>\n",
       "  </thead>\n",
       "  <tbody>\n",
       "    <tr>\n",
       "      <th>중국</th>\n",
       "      <td>2021</td>\n",
       "      <td>569016</td>\n",
       "      <td>36400747</td>\n",
       "      <td>1315725</td>\n",
       "      <td>30643442</td>\n",
       "      <td>5757306</td>\n",
       "    </tr>\n",
       "    <tr>\n",
       "      <th>미국</th>\n",
       "      <td>2021</td>\n",
       "      <td>536821</td>\n",
       "      <td>22760363</td>\n",
       "      <td>4891520</td>\n",
       "      <td>16985784</td>\n",
       "      <td>5774579</td>\n",
       "    </tr>\n",
       "    <tr>\n",
       "      <th>베트남</th>\n",
       "      <td>2021</td>\n",
       "      <td>156220</td>\n",
       "      <td>12763574</td>\n",
       "      <td>147505</td>\n",
       "      <td>5836335</td>\n",
       "      <td>6927239</td>\n",
       "    </tr>\n",
       "    <tr>\n",
       "      <th>홍콩</th>\n",
       "      <td>2021</td>\n",
       "      <td>90885</td>\n",
       "      <td>8362706</td>\n",
       "      <td>131599</td>\n",
       "      <td>581869</td>\n",
       "      <td>7780837</td>\n",
       "    </tr>\n",
       "    <tr>\n",
       "      <th>일본</th>\n",
       "      <td>2021</td>\n",
       "      <td>989306</td>\n",
       "      <td>6844422</td>\n",
       "      <td>571685</td>\n",
       "      <td>12911935</td>\n",
       "      <td>6067513</td>\n",
       "    </tr>\n",
       "    <tr>\n",
       "      <th>...</th>\n",
       "      <td>...</td>\n",
       "      <td>...</td>\n",
       "      <td>...</td>\n",
       "      <td>...</td>\n",
       "      <td>...</td>\n",
       "      <td>...</td>\n",
       "    </tr>\n",
       "    <tr>\n",
       "      <th>코스 군도</th>\n",
       "      <td>2021</td>\n",
       "      <td>0</td>\n",
       "      <td>0</td>\n",
       "      <td>2</td>\n",
       "      <td>8</td>\n",
       "      <td>8</td>\n",
       "    </tr>\n",
       "    <tr>\n",
       "      <th>보빗군도</th>\n",
       "      <td>2021</td>\n",
       "      <td>0</td>\n",
       "      <td>0</td>\n",
       "      <td>1</td>\n",
       "      <td>0</td>\n",
       "      <td>0</td>\n",
       "    </tr>\n",
       "    <tr>\n",
       "      <th>니우에</th>\n",
       "      <td>2021</td>\n",
       "      <td>0</td>\n",
       "      <td>0</td>\n",
       "      <td>3</td>\n",
       "      <td>29</td>\n",
       "      <td>29</td>\n",
       "    </tr>\n",
       "    <tr>\n",
       "      <th>세인트 헬레나</th>\n",
       "      <td>2021</td>\n",
       "      <td>0</td>\n",
       "      <td>0</td>\n",
       "      <td>2</td>\n",
       "      <td>3</td>\n",
       "      <td>3</td>\n",
       "    </tr>\n",
       "    <tr>\n",
       "      <th>마이너 아우틀링 합중국 군도</th>\n",
       "      <td>2021</td>\n",
       "      <td>0</td>\n",
       "      <td>0</td>\n",
       "      <td>2</td>\n",
       "      <td>1</td>\n",
       "      <td>1</td>\n",
       "    </tr>\n",
       "  </tbody>\n",
       "</table>\n",
       "<p>241 rows × 6 columns</p>\n",
       "</div>"
      ],
      "text/plain": [
       "                   기간    수출건수      수출금액     수입건수      수입금액     무역수지\n",
       "국가명                                                                \n",
       "중국               2021  569016  36400747  1315725  30643442  5757306\n",
       "미국               2021  536821  22760363  4891520  16985784  5774579\n",
       "베트남              2021  156220  12763574   147505   5836335  6927239\n",
       "홍콩               2021   90885   8362706   131599    581869  7780837\n",
       "일본               2021  989306   6844422   571685  12911935  6067513\n",
       "...               ...     ...       ...      ...       ...      ...\n",
       "코스 군도            2021       0         0        2         8        8\n",
       "보빗군도             2021       0         0        1         0        0\n",
       "니우에              2021       0         0        3        29       29\n",
       "세인트 헬레나          2021       0         0        2         3        3\n",
       "마이너 아우틀링 합중국 군도  2021       0         0        2         1        1\n",
       "\n",
       "[241 rows x 6 columns]"
      ]
     },
     "execution_count": 93,
     "metadata": {},
     "output_type": "execute_result"
    }
   ],
   "source": [
    "expert_data = expert_data.dropna()\n",
    "expert = expert_data.set_index(\"국가명\")\n",
    "expert"
   ]
  },
  {
   "cell_type": "code",
   "execution_count": 94,
   "metadata": {
    "scrolled": false
   },
   "outputs": [
    {
     "data": {
      "image/png": "[encoded data removed]",
      "text/plain": [
       "<Figure size 360x360 with 1 Axes>"
      ]
     },
     "metadata": {
      "needs_background": "light"
     },
     "output_type": "display_data"
    }
   ],
   "source": [
    "plt.figure(figsize = (5,5))\n",
    "plt.scatter(expert[\"수출금액\"],expert[\"수입금액\"],c = \"k\", marker=\"o\")\n",
    "plt.xlabel(\"수출금액\")\n",
    "plt.ylabel(\"수입금액\")\n",
    "\n",
    "for n in range(expert.shape[0]):\n",
    "    plt.text(expert[\"수출금액\"][n]*1.03,expert[\"수입금액\"][n]*0.98, expert.index[n])"
   ]
  },
  {
   "cell_type": "code",
   "execution_count": 95,
   "metadata": {
    "scrolled": true
   },
   "outputs": [
    {
     "data": {
      "text/html": [
       "<div>\n",
       "<style scoped>\n",
       "    .dataframe tbody tr th:only-of-type {\n",
       "        vertical-align: middle;\n",
       "    }\n",
       "\n",
       "    .dataframe tbody tr th {\n",
       "        vertical-align: top;\n",
       "    }\n",
       "\n",
       "    .dataframe thead th {\n",
       "        text-align: right;\n",
       "    }\n",
       "</style>\n",
       "<table border=\"1\" class=\"dataframe\">\n",
       "  <thead>\n",
       "    <tr style=\"text-align: right;\">\n",
       "      <th></th>\n",
       "      <th>기간</th>\n",
       "      <th>수출건수</th>\n",
       "      <th>수출금액</th>\n",
       "      <th>수입건수</th>\n",
       "      <th>수입금액</th>\n",
       "      <th>무역수지</th>\n",
       "    </tr>\n",
       "    <tr>\n",
       "      <th>국가명</th>\n",
       "      <th></th>\n",
       "      <th></th>\n",
       "      <th></th>\n",
       "      <th></th>\n",
       "      <th></th>\n",
       "      <th></th>\n",
       "    </tr>\n",
       "  </thead>\n",
       "  <tbody>\n",
       "    <tr>\n",
       "      <th>싱가포르</th>\n",
       "      <td>2021</td>\n",
       "      <td>121082</td>\n",
       "      <td>2451532</td>\n",
       "      <td>45695</td>\n",
       "      <td>2802692</td>\n",
       "      <td>351159</td>\n",
       "    </tr>\n",
       "    <tr>\n",
       "      <th>대만</th>\n",
       "      <td>2021</td>\n",
       "      <td>84183</td>\n",
       "      <td>5162802</td>\n",
       "      <td>74400</td>\n",
       "      <td>5514700</td>\n",
       "      <td>351898</td>\n",
       "    </tr>\n",
       "    <tr>\n",
       "      <th>인도네시아</th>\n",
       "      <td>2021</td>\n",
       "      <td>68958</td>\n",
       "      <td>1870012</td>\n",
       "      <td>24582</td>\n",
       "      <td>2228801</td>\n",
       "      <td>358789</td>\n",
       "    </tr>\n",
       "    <tr>\n",
       "      <th>말레이시아</th>\n",
       "      <td>2021</td>\n",
       "      <td>68803</td>\n",
       "      <td>2135008</td>\n",
       "      <td>38048</td>\n",
       "      <td>2328574</td>\n",
       "      <td>193567</td>\n",
       "    </tr>\n",
       "    <tr>\n",
       "      <th>인도</th>\n",
       "      <td>2021</td>\n",
       "      <td>60923</td>\n",
       "      <td>3892589</td>\n",
       "      <td>49262</td>\n",
       "      <td>1657619</td>\n",
       "      <td>2234971</td>\n",
       "    </tr>\n",
       "    <tr>\n",
       "      <th>...</th>\n",
       "      <td>...</td>\n",
       "      <td>...</td>\n",
       "      <td>...</td>\n",
       "      <td>...</td>\n",
       "      <td>...</td>\n",
       "      <td>...</td>\n",
       "    </tr>\n",
       "    <tr>\n",
       "      <th>코스 군도</th>\n",
       "      <td>2021</td>\n",
       "      <td>0</td>\n",
       "      <td>0</td>\n",
       "      <td>2</td>\n",
       "      <td>8</td>\n",
       "      <td>8</td>\n",
       "    </tr>\n",
       "    <tr>\n",
       "      <th>보빗군도</th>\n",
       "      <td>2021</td>\n",
       "      <td>0</td>\n",
       "      <td>0</td>\n",
       "      <td>1</td>\n",
       "      <td>0</td>\n",
       "      <td>0</td>\n",
       "    </tr>\n",
       "    <tr>\n",
       "      <th>니우에</th>\n",
       "      <td>2021</td>\n",
       "      <td>0</td>\n",
       "      <td>0</td>\n",
       "      <td>3</td>\n",
       "      <td>29</td>\n",
       "      <td>29</td>\n",
       "    </tr>\n",
       "    <tr>\n",
       "      <th>세인트 헬레나</th>\n",
       "      <td>2021</td>\n",
       "      <td>0</td>\n",
       "      <td>0</td>\n",
       "      <td>2</td>\n",
       "      <td>3</td>\n",
       "      <td>3</td>\n",
       "    </tr>\n",
       "    <tr>\n",
       "      <th>마이너 아우틀링 합중국 군도</th>\n",
       "      <td>2021</td>\n",
       "      <td>0</td>\n",
       "      <td>0</td>\n",
       "      <td>2</td>\n",
       "      <td>1</td>\n",
       "      <td>1</td>\n",
       "    </tr>\n",
       "  </tbody>\n",
       "</table>\n",
       "<p>236 rows × 6 columns</p>\n",
       "</div>"
      ],
      "text/plain": [
       "                   기간    수출건수     수출금액   수입건수     수입금액     무역수지\n",
       "국가명                                                            \n",
       "싱가포르             2021  121082  2451532  45695  2802692   351159\n",
       "대만               2021   84183  5162802  74400  5514700   351898\n",
       "인도네시아            2021   68958  1870012  24582  2228801   358789\n",
       "말레이시아            2021   68803  2135008  38048  2328574   193567\n",
       "인도               2021   60923  3892589  49262  1657619  2234971\n",
       "...               ...     ...      ...    ...      ...      ...\n",
       "코스 군도            2021       0        0      2        8        8\n",
       "보빗군도             2021       0        0      1        0        0\n",
       "니우에              2021       0        0      3       29       29\n",
       "세인트 헬레나          2021       0        0      2        3        3\n",
       "마이너 아우틀링 합중국 군도  2021       0        0      2        1        1\n",
       "\n",
       "[236 rows x 6 columns]"
      ]
     },
     "execution_count": 95,
     "metadata": {},
     "output_type": "execute_result"
    }
   ],
   "source": [
    "expert = expert.drop([\"중국\",\"미국\",\"베트남\",\"홍콩\",\"일본\"], errors = 'ignore')\n",
    "expert = expert.sort_values(by=\"수출건수\", ascending = False)\n",
    "expert"
   ]
  },
  {
   "cell_type": "code",
   "execution_count": 96,
   "metadata": {},
   "outputs": [
    {
     "data": {
      "text/html": [
       "<div>\n",
       "<style scoped>\n",
       "    .dataframe tbody tr th:only-of-type {\n",
       "        vertical-align: middle;\n",
       "    }\n",
       "\n",
       "    .dataframe tbody tr th {\n",
       "        vertical-align: top;\n",
       "    }\n",
       "\n",
       "    .dataframe thead th {\n",
       "        text-align: right;\n",
       "    }\n",
       "</style>\n",
       "<table border=\"1\" class=\"dataframe\">\n",
       "  <thead>\n",
       "    <tr style=\"text-align: right;\">\n",
       "      <th></th>\n",
       "      <th>수출금액</th>\n",
       "      <th>수입금액</th>\n",
       "    </tr>\n",
       "    <tr>\n",
       "      <th>국가명</th>\n",
       "      <th></th>\n",
       "      <th></th>\n",
       "    </tr>\n",
       "  </thead>\n",
       "  <tbody>\n",
       "    <tr>\n",
       "      <th>아랍에미리트 연합</th>\n",
       "      <td>828011</td>\n",
       "      <td>1729828</td>\n",
       "    </tr>\n",
       "    <tr>\n",
       "      <th>이탈리아</th>\n",
       "      <td>1054419</td>\n",
       "      <td>1939033</td>\n",
       "    </tr>\n",
       "    <tr>\n",
       "      <th>스페인</th>\n",
       "      <td>734891</td>\n",
       "      <td>541282</td>\n",
       "    </tr>\n",
       "    <tr>\n",
       "      <th>이집트</th>\n",
       "      <td>369117</td>\n",
       "      <td>127406</td>\n",
       "    </tr>\n",
       "    <tr>\n",
       "      <th>칠레</th>\n",
       "      <td>350967</td>\n",
       "      <td>1106706</td>\n",
       "    </tr>\n",
       "  </tbody>\n",
       "</table>\n",
       "</div>"
      ],
      "text/plain": [
       "              수출금액     수입금액\n",
       "국가명                        \n",
       "아랍에미리트 연합   828011  1729828\n",
       "이탈리아       1054419  1939033\n",
       "스페인         734891   541282\n",
       "이집트         369117   127406\n",
       "칠레          350967  1106706"
      ]
     },
     "execution_count": 96,
     "metadata": {},
     "output_type": "execute_result"
    }
   ],
   "source": [
    "expert = expert[[\"수출금액\",\"수입금액\"]]\n",
    "expert = expert[:24]\n",
    "expert.tail()"
   ]
  },
  {
   "cell_type": "code",
   "execution_count": 90,
   "metadata": {},
   "outputs": [
    {
     "data": {
      "image/png": "[encoded data removed]",
      "text/plain": [
       "<Figure size 720x576 with 1 Axes>"
      ]
     },
     "metadata": {
      "needs_background": "light"
     },
     "output_type": "display_data"
    }
   ],
   "source": [
    "plt.figure(figsize = (10,8))\n",
    "plt.scatter(expert[\"수출금액\"],expert[\"수입금액\"],c = \"k\", marker=\"o\")\n",
    "plt.xlabel(\"수출금액\")\n",
    "plt.ylabel(\"수입금액\")\n",
    "\n",
    "for n in range(expert.shape[0]):\n",
    "    plt.text(expert[\"수출금액\"][n]*1.03,expert[\"수입금액\"][n]*0.98, expert.index[n])"
   ]
  },
  {
   "cell_type": "code",
   "execution_count": 70,
   "metadata": {},
   "outputs": [
    {
     "data": {
      "image/png": "[encoded data removed]",
      "text/plain": [
       "<Figure size 720x576 with 1 Axes>"
      ]
     },
     "metadata": {
      "needs_background": "light"
     },
     "output_type": "display_data"
    }
   ],
   "source": [
    "from scipy.cluster.hierarchy import dendrogram, linkage\n",
    "\n",
    "plt.figure(figsize=(10,8))\n",
    "\n",
    "link_dist = linkage(expert, metric='euclidean', method = 'ward')\n",
    "dendrogram(link_dist, labels = expert.index)\n",
    "plt.show()"
   ]
  },
  {
   "cell_type": "code",
   "execution_count": 71,
   "metadata": {},
   "outputs": [
    {
     "data": {
      "text/plain": [
       "array([1, 2, 1, 1, 1, 2, 0, 1, 2, 1, 0, 1, 0, 1, 0, 0, 0, 0, 0, 0, 0, 0,\n",
       "       0, 0])"
      ]
     },
     "execution_count": 71,
     "metadata": {},
     "output_type": "execute_result"
    }
   ],
   "source": [
    "from sklearn.cluster import KMeans\n",
    "kmeans = KMeans(n_clusters = 3).fit(expert)\n",
    "centers = kmeans.cluster_centers_\n",
    "\n",
    "kmeans.labels_"
   ]
  },
  {
   "cell_type": "code",
   "execution_count": 72,
   "metadata": {},
   "outputs": [
    {
     "data": {
      "text/plain": [
       "array([[1087692.61538462,  962121.07692308],\n",
       "       [2300682.625     , 2233279.        ],\n",
       "       [3460361.33333333, 5722121.66666667]])"
      ]
     },
     "execution_count": 72,
     "metadata": {},
     "output_type": "execute_result"
    }
   ],
   "source": [
    "centers"
   ]
  },
  {
   "cell_type": "code",
   "execution_count": 73,
   "metadata": {},
   "outputs": [
    {
     "data": {
      "text/html": [
       "<div>\n",
       "<style scoped>\n",
       "    .dataframe tbody tr th:only-of-type {\n",
       "        vertical-align: middle;\n",
       "    }\n",
       "\n",
       "    .dataframe tbody tr th {\n",
       "        vertical-align: top;\n",
       "    }\n",
       "\n",
       "    .dataframe thead th {\n",
       "        text-align: right;\n",
       "    }\n",
       "</style>\n",
       "<table border=\"1\" class=\"dataframe\">\n",
       "  <thead>\n",
       "    <tr style=\"text-align: right;\">\n",
       "      <th></th>\n",
       "      <th>수출금액</th>\n",
       "      <th>수입금액</th>\n",
       "      <th>클러스터</th>\n",
       "    </tr>\n",
       "    <tr>\n",
       "      <th>국가명</th>\n",
       "      <th></th>\n",
       "      <th></th>\n",
       "      <th></th>\n",
       "    </tr>\n",
       "  </thead>\n",
       "  <tbody>\n",
       "    <tr>\n",
       "      <th>싱가포르</th>\n",
       "      <td>2451532</td>\n",
       "      <td>2802692</td>\n",
       "      <td>1</td>\n",
       "    </tr>\n",
       "    <tr>\n",
       "      <th>대만</th>\n",
       "      <td>5162802</td>\n",
       "      <td>5514700</td>\n",
       "      <td>2</td>\n",
       "    </tr>\n",
       "    <tr>\n",
       "      <th>인도네시아</th>\n",
       "      <td>1870012</td>\n",
       "      <td>2228801</td>\n",
       "      <td>1</td>\n",
       "    </tr>\n",
       "    <tr>\n",
       "      <th>말레이시아</th>\n",
       "      <td>2135008</td>\n",
       "      <td>2328574</td>\n",
       "      <td>1</td>\n",
       "    </tr>\n",
       "    <tr>\n",
       "      <th>인도</th>\n",
       "      <td>3892589</td>\n",
       "      <td>1657619</td>\n",
       "      <td>1</td>\n",
       "    </tr>\n",
       "  </tbody>\n",
       "</table>\n",
       "</div>"
      ],
      "text/plain": [
       "          수출금액     수입금액  클러스터\n",
       "국가명                          \n",
       "싱가포르   2451532  2802692     1\n",
       "대만     5162802  5514700     2\n",
       "인도네시아  1870012  2228801     1\n",
       "말레이시아  2135008  2328574     1\n",
       "인도     3892589  1657619     1"
      ]
     },
     "execution_count": 73,
     "metadata": {},
     "output_type": "execute_result"
    }
   ],
   "source": [
    "expert.loc[:,\"클러스터\"] = kmeans.labels_\n",
    "expert.head()"
   ]
  },
  {
   "cell_type": "code",
   "execution_count": 74,
   "metadata": {},
   "outputs": [],
   "source": [
    "expert['클러스터'] = kmeans.labels_"
   ]
  },
  {
   "cell_type": "code",
   "execution_count": 75,
   "metadata": {},
   "outputs": [
    {
     "data": {
      "text/html": [
       "<div>\n",
       "<style scoped>\n",
       "    .dataframe tbody tr th:only-of-type {\n",
       "        vertical-align: middle;\n",
       "    }\n",
       "\n",
       "    .dataframe tbody tr th {\n",
       "        vertical-align: top;\n",
       "    }\n",
       "\n",
       "    .dataframe thead th {\n",
       "        text-align: right;\n",
       "    }\n",
       "</style>\n",
       "<table border=\"1\" class=\"dataframe\">\n",
       "  <thead>\n",
       "    <tr style=\"text-align: right;\">\n",
       "      <th></th>\n",
       "      <th>수출금액</th>\n",
       "      <th>수입금액</th>\n",
       "    </tr>\n",
       "    <tr>\n",
       "      <th>국가명</th>\n",
       "      <th></th>\n",
       "      <th></th>\n",
       "    </tr>\n",
       "  </thead>\n",
       "  <tbody>\n",
       "    <tr>\n",
       "      <th>싱가포르</th>\n",
       "      <td>2451532</td>\n",
       "      <td>2802692</td>\n",
       "    </tr>\n",
       "    <tr>\n",
       "      <th>대만</th>\n",
       "      <td>5162802</td>\n",
       "      <td>5514700</td>\n",
       "    </tr>\n",
       "    <tr>\n",
       "      <th>인도네시아</th>\n",
       "      <td>1870012</td>\n",
       "      <td>2228801</td>\n",
       "    </tr>\n",
       "    <tr>\n",
       "      <th>말레이시아</th>\n",
       "      <td>2135008</td>\n",
       "      <td>2328574</td>\n",
       "    </tr>\n",
       "    <tr>\n",
       "      <th>인도</th>\n",
       "      <td>3892589</td>\n",
       "      <td>1657619</td>\n",
       "    </tr>\n",
       "  </tbody>\n",
       "</table>\n",
       "</div>"
      ],
      "text/plain": [
       "          수출금액     수입금액\n",
       "국가명                    \n",
       "싱가포르   2451532  2802692\n",
       "대만     5162802  5514700\n",
       "인도네시아  1870012  2228801\n",
       "말레이시아  2135008  2328574\n",
       "인도     3892589  1657619"
      ]
     },
     "execution_count": 75,
     "metadata": {},
     "output_type": "execute_result"
    }
   ],
   "source": [
    "expert.drop('클러스터', axis = 1, inplace=True)\n",
    "expert.head()"
   ]
  },
  {
   "cell_type": "code",
   "execution_count": 76,
   "metadata": {},
   "outputs": [
    {
     "data": {
      "image/png": "[encoded data removed]",
      "text/plain": [
       "<Figure size 720x576 with 1 Axes>"
      ]
     },
     "metadata": {
      "needs_background": "light"
     },
     "output_type": "display_data"
    }
   ],
   "source": [
    "my_markers=['*','^', 'o','^','.',',','1','2']\n",
    "my_color =['r','c','g','b','g','k','r','y']\n",
    "\n",
    "plt.figure(figsize=(10, 8))\n",
    "plt.xlabel('수출금액')\n",
    "plt.ylabel('수입금액')\n",
    "for n in range(expert.shape[0]):\n",
    "    label = kmeans.labels_[n]\n",
    "    plt.scatter(expert['수출금액'][n], expert['수입금액'][n], c=my_color[label], marker=my_markers[label], s=100)\n",
    "    plt.text(expert['수출금액'][n]*1.03, expert['수입금액'][n]*0.98, expert.index[n])\n",
    "    \n",
    "for i in range(kmeans.n_clusters):\n",
    "    plt.scatter(centers[i][0], centers[i][1], c = 'r', s= 50)"
   ]
  }
 ],
 "metadata": {
  "kernelspec": {
   "display_name": "Python 3",
   "language": "python",
   "name": "python3"
  },
  "language_info": {
   "codemirror_mode": {
    "name": "ipython",
    "version": 3
   },
   "file_extension": ".py",
   "mimetype": "text/x-python",
   "name": "python",
   "nbconvert_exporter": "python",
   "pygments_lexer": "ipython3",
   "version": "3.8.8"
  }
 },
 "nbformat": 4,
 "nbformat_minor": 4
}
