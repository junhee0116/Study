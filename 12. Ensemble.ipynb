{
 "cells": [
  {
   "cell_type": "code",
   "execution_count": 1,
   "id": "fa055200",
   "metadata": {},
   "outputs": [],
   "source": [
    "import numpy as np\n",
    "import pandas as pd\n",
    "import matplotlib.pyplot as plt"
   ]
  },
  {
   "cell_type": "code",
   "execution_count": 2,
   "id": "a6c0d681",
   "metadata": {},
   "outputs": [],
   "source": [
    "from sklearn.datasets import load_iris, load_wine, load_breast_cancer\n",
    "from sklearn.preprocessing import StandardScaler\n",
    "from sklearn.pipeline import make_pipeline\n",
    "from sklearn.model_selection import train_test_split, cross_validate\n",
    "from sklearn.metrics import accuracy_score, precision_score, recall_score"
   ]
  },
  {
   "cell_type": "code",
   "execution_count": 3,
   "id": "61d53c87",
   "metadata": {},
   "outputs": [],
   "source": [
    "from sklearn.ensemble import BaggingClassifier\n",
    "from sklearn.neighbors import KNeighborsClassifier\n",
    "from sklearn.svm import SVC\n",
    "from sklearn.tree import DecisionTreeClassifier"
   ]
  },
  {
   "cell_type": "code",
   "execution_count": 4,
   "id": "91e99e64",
   "metadata": {},
   "outputs": [],
   "source": [
    "cancer = load_breast_cancer()\n",
    "iris = load_iris()\n",
    "wine = load_wine()"
   ]
  },
  {
   "cell_type": "markdown",
   "id": "00b9665c",
   "metadata": {},
   "source": [
    "## Bagging 을 사용한 분류"
   ]
  },
  {
   "cell_type": "markdown",
   "id": "9b4f4154",
   "metadata": {},
   "source": [
    "- Bagging은 bootstrap aggregating의 줄임말\n",
    "- 원래 훈련 데이터셋의 일부를 사용해 여러 모델을 훈련\n",
    "- 각각의 결과를 결합해 최종 결과를 생성\n",
    "- 분산을 줄이고 과적합을 막음\n",
    "- 강력하고 복잡한 모델에서 잘 동작"
   ]
  },
  {
   "cell_type": "markdown",
   "id": "d72293f7",
   "metadata": {},
   "source": [
    "### KNN"
   ]
  },
  {
   "cell_type": "code",
   "execution_count": 6,
   "id": "be632f0d",
   "metadata": {},
   "outputs": [],
   "source": [
    "base_model = make_pipeline(StandardScaler(), KNeighborsClassifier())\n",
    "\n",
    "bagging_model = BaggingClassifier(base_model, n_estimators = 10, max_samples = 0.5, max_features = 0.5)"
   ]
  },
  {
   "cell_type": "code",
   "execution_count": 8,
   "id": "e91c8b24",
   "metadata": {},
   "outputs": [
    {
     "name": "stdout",
     "output_type": "stream",
     "text": [
      "avg fit time : 0.0019376754760742187 (+/- 0.000635392704291384)\n",
      "avg score time : 0.007961750030517578 (+/- 0.002615977780356704)\n",
      "avg test score : 0.9648501785437045 (+/- 0.009609970350036127)\n"
     ]
    }
   ],
   "source": [
    "cross_val = cross_validate(estimator = base_model, X = cancer.data, y = cancer.target, cv = 5)\n",
    "\n",
    "print('avg fit time : {} (+/- {})'.format(cross_val['fit_time'].mean(), cross_val['fit_time'].std()))\n",
    "print('avg score time : {} (+/- {})'.format(cross_val['score_time'].mean(), cross_val['score_time'].std()))\n",
    "print('avg test score : {} (+/- {})'.format(cross_val['test_score'].mean(), cross_val['test_score'].std()))"
   ]
  },
  {
   "cell_type": "code",
   "execution_count": 9,
   "id": "62248cb6",
   "metadata": {},
   "outputs": [
    {
     "name": "stdout",
     "output_type": "stream",
     "text": [
      "avg fit time : 0.03210463523864746 (+/- 0.020099809980369632)\n",
      "avg score time : 0.014757490158081055 (+/- 0.001175350325346464)\n",
      "avg test score : 0.9666200900481291 (+/- 0.012867010404453715)\n"
     ]
    }
   ],
   "source": [
    "cross_val = cross_validate(estimator = bagging_model, X = cancer.data, y = cancer.target, cv = 5)\n",
    "\n",
    "print('avg fit time : {} (+/- {})'.format(cross_val['fit_time'].mean(), cross_val['fit_time'].std()))\n",
    "print('avg score time : {} (+/- {})'.format(cross_val['score_time'].mean(), cross_val['score_time'].std()))\n",
    "print('avg test score : {} (+/- {})'.format(cross_val['test_score'].mean(), cross_val['test_score'].std()))"
   ]
  },
  {
   "cell_type": "markdown",
   "id": "8c9bae99",
   "metadata": {},
   "source": [
    "### SVC"
   ]
  },
  {
   "cell_type": "code",
   "execution_count": 10,
   "id": "a1c91c8a",
   "metadata": {},
   "outputs": [],
   "source": [
    "base_model = make_pipeline(StandardScaler(), SVC())\n",
    "\n",
    "bagging_model = BaggingClassifier(base_model, n_estimators= 10, max_samples = 0.5, max_features = 0.5)"
   ]
  },
  {
   "cell_type": "code",
   "execution_count": 11,
   "id": "88177ad1",
   "metadata": {},
   "outputs": [
    {
     "name": "stdout",
     "output_type": "stream",
     "text": [
      "avg fit time : 0.019209957122802733 (+/- 0.02748224858806769)\n",
      "avg score time : 0.002606105804443359 (+/- 0.0008092256223475037)\n",
      "avg test score : 0.9736376339077782 (+/- 0.014678541667933545)\n"
     ]
    }
   ],
   "source": [
    "cross_val = cross_validate(estimator = base_model, X = cancer.data, y = cancer.target, cv = 5)\n",
    "\n",
    "print('avg fit time : {} (+/- {})'.format(cross_val['fit_time'].mean(), cross_val['fit_time'].std()))\n",
    "print('avg score time : {} (+/- {})'.format(cross_val['score_time'].mean(), cross_val['score_time'].std()))\n",
    "print('avg test score : {} (+/- {})'.format(cross_val['test_score'].mean(), cross_val['test_score'].std()))"
   ]
  },
  {
   "cell_type": "code",
   "execution_count": 12,
   "id": "0d2e1879",
   "metadata": {},
   "outputs": [
    {
     "name": "stdout",
     "output_type": "stream",
     "text": [
      "avg fit time : 0.036819171905517575 (+/- 0.009885914913470422)\n",
      "avg score time : 0.011606550216674805 (+/- 0.0010077388732721447)\n",
      "avg test score : 0.968390001552554 (+/- 0.011862304695158518)\n"
     ]
    }
   ],
   "source": [
    "cross_val = cross_validate(estimator = bagging_model, X = cancer.data, y = cancer.target, cv = 5)\n",
    "\n",
    "print('avg fit time : {} (+/- {})'.format(cross_val['fit_time'].mean(), cross_val['fit_time'].std()))\n",
    "print('avg score time : {} (+/- {})'.format(cross_val['score_time'].mean(), cross_val['score_time'].std()))\n",
    "print('avg test score : {} (+/- {})'.format(cross_val['test_score'].mean(), cross_val['test_score'].std()))"
   ]
  },
  {
   "cell_type": "markdown",
   "id": "3b6932d2",
   "metadata": {},
   "source": [
    "### Decision Tree"
   ]
  },
  {
   "cell_type": "code",
   "execution_count": 13,
   "id": "634482bc",
   "metadata": {},
   "outputs": [],
   "source": [
    "base_model = make_pipeline(StandardScaler(), DecisionTreeClassifier())\n",
    "\n",
    "bagging_model = BaggingClassifier(base_model, n_estimators = 10, max_samples = 0.5, max_features = 0.5)"
   ]
  },
  {
   "cell_type": "code",
   "execution_count": 14,
   "id": "2d29e504",
   "metadata": {},
   "outputs": [
    {
     "name": "stdout",
     "output_type": "stream",
     "text": [
      "avg fit time : 0.016427993774414062 (+/- 0.01451166635863602)\n",
      "avg score time : 0.0012705802917480468 (+/- 0.0011496548373784343)\n",
      "avg test score : 0.9103244837758112 (+/- 0.017303100601016346)\n"
     ]
    }
   ],
   "source": [
    "cross_val = cross_validate(estimator = base_model, X = cancer.data, y = cancer.target, cv = 5)\n",
    "\n",
    "print('avg fit time : {} (+/- {})'.format(cross_val['fit_time'].mean(), cross_val['fit_time'].std()))\n",
    "print('avg score time : {} (+/- {})'.format(cross_val['score_time'].mean(), cross_val['score_time'].std()))\n",
    "print('avg test score : {} (+/- {})'.format(cross_val['test_score'].mean(), cross_val['test_score'].std()))"
   ]
  },
  {
   "cell_type": "code",
   "execution_count": 16,
   "id": "84eeb08c",
   "metadata": {},
   "outputs": [
    {
     "name": "stdout",
     "output_type": "stream",
     "text": [
      "avg fit time : 0.04114656448364258 (+/- 0.01588193530619989)\n",
      "avg score time : 0.0031009197235107424 (+/- 0.0014903144429790453)\n",
      "avg test score : 0.9613569321533924 (+/- 0.01047224973457601)\n"
     ]
    }
   ],
   "source": [
    "cross_val = cross_validate(estimator = bagging_model, X = cancer.data, y = cancer.target, cv = 5)\n",
    "\n",
    "print('avg fit time : {} (+/- {})'.format(cross_val['fit_time'].mean(), cross_val['fit_time'].std()))\n",
    "print('avg score time : {} (+/- {})'.format(cross_val['score_time'].mean(), cross_val['score_time'].std()))\n",
    "print('avg test score : {} (+/- {})'.format(cross_val['test_score'].mean(), cross_val['test_score'].std()))"
   ]
  },
  {
   "cell_type": "markdown",
   "id": "f1c72912",
   "metadata": {},
   "source": [
    "## RandomForest"
   ]
  },
  {
   "cell_type": "code",
   "execution_count": 17,
   "id": "a230fe07",
   "metadata": {},
   "outputs": [],
   "source": [
    "from sklearn.ensemble import RandomForestClassifier"
   ]
  },
  {
   "cell_type": "code",
   "execution_count": 18,
   "id": "8cd1ea5c",
   "metadata": {},
   "outputs": [],
   "source": [
    "model = make_pipeline(StandardScaler(), RandomForestClassifier())"
   ]
  },
  {
   "cell_type": "code",
   "execution_count": 19,
   "id": "cb30b4ff",
   "metadata": {},
   "outputs": [
    {
     "name": "stdout",
     "output_type": "stream",
     "text": [
      "avg fit time : 0.16425113677978515 (+/- 0.07869094652353181)\n",
      "avg score time : 0.010165977478027343 (+/- 0.002628760561500391)\n",
      "avg test score : 0.9666666666666668 (+/- 0.02108185106778919)\n"
     ]
    }
   ],
   "source": [
    "cross_val = cross_validate(estimator = model, X = iris.data, y = iris.target, cv = 5)\n",
    "\n",
    "print('avg fit time : {} (+/- {})'.format(cross_val['fit_time'].mean(), cross_val['fit_time'].std()))\n",
    "print('avg score time : {} (+/- {})'.format(cross_val['score_time'].mean(), cross_val['score_time'].std()))\n",
    "print('avg test score : {} (+/- {})'.format(cross_val['test_score'].mean(), cross_val['test_score'].std()))"
   ]
  },
  {
   "cell_type": "code",
   "execution_count": 20,
   "id": "a89a88fa",
   "metadata": {},
   "outputs": [
    {
     "name": "stdout",
     "output_type": "stream",
     "text": [
      "avg fit time : 0.16261558532714843 (+/- 0.09144707606703631)\n",
      "avg score time : 0.01250314712524414 (+/- 0.008559126743112133)\n",
      "avg test score : 0.9888888888888889 (+/- 0.022222222222222233)\n"
     ]
    }
   ],
   "source": [
    "cross_val = cross_validate(estimator = model, X = wine.data, y = wine.target, cv = 5)\n",
    "\n",
    "print('avg fit time : {} (+/- {})'.format(cross_val['fit_time'].mean(), cross_val['fit_time'].std()))\n",
    "print('avg score time : {} (+/- {})'.format(cross_val['score_time'].mean(), cross_val['score_time'].std()))\n",
    "print('avg test score : {} (+/- {})'.format(cross_val['test_score'].mean(), cross_val['test_score'].std()))"
   ]
  },
  {
   "cell_type": "code",
   "execution_count": 21,
   "id": "6719d81b",
   "metadata": {},
   "outputs": [
    {
     "name": "stdout",
     "output_type": "stream",
     "text": [
      "avg fit time : 0.29647326469421387 (+/- 0.11215759750953404)\n",
      "avg score time : 0.01457042694091797 (+/- 0.005340970936728621)\n",
      "avg test score : 0.9666356155876418 (+/- 0.02028442485129542)\n"
     ]
    }
   ],
   "source": [
    "cross_val = cross_validate(estimator = model, X = cancer.data, y = cancer.target, cv = 5)\n",
    "\n",
    "print('avg fit time : {} (+/- {})'.format(cross_val['fit_time'].mean(), cross_val['fit_time'].std()))\n",
    "print('avg score time : {} (+/- {})'.format(cross_val['score_time'].mean(), cross_val['score_time'].std()))\n",
    "print('avg test score : {} (+/- {})'.format(cross_val['test_score'].mean(), cross_val['test_score'].std()))"
   ]
  },
  {
   "cell_type": "markdown",
   "id": "6fb90059",
   "metadata": {},
   "source": [
    "## AdaBoost"
   ]
  },
  {
   "cell_type": "markdown",
   "id": "fd949811",
   "metadata": {},
   "source": [
    "- 대표적인 부스팅 알고리즘\n",
    "- 일련의 약한 모델들을 학습\n",
    "- 수정된 버전의 데이터를 반복 학습 (가중치가 적용된)\n",
    "- 가중치 투표 (또는 합)을 통해 각 모델의 예측값을 결합\n",
    "- 첫 단계에서는 원본 데이터를 학습하고 연속적인 반복마다 개별 샘플에 대한 가중치가 수정되고 다시 모델이 학습\n",
    "    - 잘못 예측된 샘플은 가중치 증가, 올바르게 예측된 샘플은 가중치 감소\n",
    "    - 각각의 약한 모델들은 예측하기 어려운 샘플에 집중하게 됨"
   ]
  },
  {
   "cell_type": "code",
   "execution_count": 22,
   "id": "1f9feec1",
   "metadata": {},
   "outputs": [],
   "source": [
    "from sklearn.ensemble import AdaBoostClassifier"
   ]
  },
  {
   "cell_type": "code",
   "execution_count": 23,
   "id": "e2b14f03",
   "metadata": {},
   "outputs": [],
   "source": [
    "model = make_pipeline(StandardScaler(), AdaBoostClassifier())"
   ]
  },
  {
   "cell_type": "code",
   "execution_count": 24,
   "id": "2d82e799",
   "metadata": {},
   "outputs": [
    {
     "name": "stdout",
     "output_type": "stream",
     "text": [
      "avg fit time : 0.0786087989807129 (+/- 0.04480540785619043)\n",
      "avg score time : 0.006535005569458008 (+/- 0.0004561087725326263)\n",
      "avg test score : 0.9466666666666667 (+/- 0.03399346342395189)\n"
     ]
    }
   ],
   "source": [
    "cross_val = cross_validate(estimator = model, X = iris.data, y = iris.target, cv = 5)\n",
    "\n",
    "print('avg fit time : {} (+/- {})'.format(cross_val['fit_time'].mean(), cross_val['fit_time'].std()))\n",
    "print('avg score time : {} (+/- {})'.format(cross_val['score_time'].mean(), cross_val['score_time'].std()))\n",
    "print('avg test score : {} (+/- {})'.format(cross_val['test_score'].mean(), cross_val['test_score'].std()))"
   ]
  },
  {
   "cell_type": "code",
   "execution_count": 25,
   "id": "7654a5f9",
   "metadata": {},
   "outputs": [
    {
     "name": "stdout",
     "output_type": "stream",
     "text": [
      "avg fit time : 0.10379467010498047 (+/- 0.028750365054325874)\n",
      "avg score time : 0.007379865646362305 (+/- 0.002039214244726594)\n",
      "avg test score : 0.8085714285714285 (+/- 0.16822356718459935)\n"
     ]
    }
   ],
   "source": [
    "cross_val = cross_validate(estimator = model, X = wine.data, y = wine.target, cv = 5)\n",
    "\n",
    "print('avg fit time : {} (+/- {})'.format(cross_val['fit_time'].mean(), cross_val['fit_time'].std()))\n",
    "print('avg score time : {} (+/- {})'.format(cross_val['score_time'].mean(), cross_val['score_time'].std()))\n",
    "print('avg test score : {} (+/- {})'.format(cross_val['test_score'].mean(), cross_val['test_score'].std()))"
   ]
  },
  {
   "cell_type": "code",
   "execution_count": 26,
   "id": "d1787fb4",
   "metadata": {},
   "outputs": [
    {
     "name": "stdout",
     "output_type": "stream",
     "text": [
      "avg fit time : 0.11814327239990234 (+/- 0.01668876199561833)\n",
      "avg score time : 0.006788063049316406 (+/- 0.0009837592198697763)\n",
      "avg test score : 0.9701133364384411 (+/- 0.019709915473893072)\n"
     ]
    }
   ],
   "source": [
    "cross_val = cross_validate(estimator = model, X = cancer.data, y = cancer.target, cv = 5)\n",
    "\n",
    "print('avg fit time : {} (+/- {})'.format(cross_val['fit_time'].mean(), cross_val['fit_time'].std()))\n",
    "print('avg score time : {} (+/- {})'.format(cross_val['score_time'].mean(), cross_val['score_time'].std()))\n",
    "print('avg test score : {} (+/- {})'.format(cross_val['test_score'].mean(), cross_val['test_score'].std()))"
   ]
  },
  {
   "cell_type": "markdown",
   "id": "df9ca9db",
   "metadata": {},
   "source": [
    "## Voting Classifier"
   ]
  },
  {
   "cell_type": "markdown",
   "id": "5edf3a43",
   "metadata": {},
   "source": [
    "- 서로 다른 모델들의 결과를 투표를 통해 결합\n",
    "- 두가지 방법으로 투표 가능\n",
    "    - 가장 많이 예측된 클래스를 정답으로 채택 (Hard Voting)\n",
    "    - 예측된 확률의 가중치 평균 (Soft Voting)"
   ]
  },
  {
   "cell_type": "code",
   "execution_count": 28,
   "id": "826f8392",
   "metadata": {},
   "outputs": [],
   "source": [
    "from sklearn.ensemble import VotingClassifier\n",
    "from sklearn.model_selection import cross_val_score\n",
    "from sklearn.naive_bayes import GaussianNB"
   ]
  },
  {
   "cell_type": "code",
   "execution_count": 29,
   "id": "e6b8a2ec",
   "metadata": {},
   "outputs": [],
   "source": [
    "# Hard voting\n",
    "model1 = SVC()\n",
    "model2 = GaussianNB()\n",
    "model3 = RandomForestClassifier()\n",
    "\n",
    "vote_model = VotingClassifier(estimators = [(\"svc\", model1), (\"naive\", model2), (\"forest\", model3)], voting = 'hard')"
   ]
  },
  {
   "cell_type": "code",
   "execution_count": 30,
   "id": "72b4b4a1",
   "metadata": {},
   "outputs": [
    {
     "name": "stdout",
     "output_type": "stream",
     "text": [
      "<class 'sklearn.svm._classes.SVC'>\n",
      "<class 'sklearn.naive_bayes.GaussianNB'>\n",
      "<class 'sklearn.ensemble._forest.RandomForestClassifier'>\n",
      "<class 'sklearn.ensemble._voting.VotingClassifier'>\n"
     ]
    }
   ],
   "source": [
    "for model in (model1, model2, model3, vote_model):\n",
    "    print(type(model))"
   ]
  },
  {
   "cell_type": "code",
   "execution_count": 34,
   "id": "921b8986",
   "metadata": {},
   "outputs": [
    {
     "name": "stdout",
     "output_type": "stream",
     "text": [
      "SVC\n",
      "GaussianNB\n",
      "RandomForestClassifier\n",
      "VotingClassifier\n"
     ]
    }
   ],
   "source": [
    "for model in (model1, model2, model3, vote_model):\n",
    "    split1 = str(type(model)).split('.')[-1]\n",
    "    print(split1.split(\"'\")[0])"
   ]
  },
  {
   "cell_type": "code",
   "execution_count": 36,
   "id": "bd792c5d",
   "metadata": {},
   "outputs": [
    {
     "name": "stdout",
     "output_type": "stream",
     "text": [
      "Accuracy : 0.97 (+/- 0.02) [SVC]\n",
      "Accuracy : 0.95 (+/- 0.03) [GaussianNB]\n",
      "Accuracy : 0.96 (+/- 0.02) [RandomForestClassifier]\n",
      "Accuracy : 0.96 (+/- 0.02) [VotingClassifier]\n"
     ]
    }
   ],
   "source": [
    "for model in (model1, model2, model3, vote_model):\n",
    "    model_name = str(type(model)).split('.')[-1][:-2]\n",
    "    score = cross_val_score(model, iris.data, iris.target, cv = 5)\n",
    "    print('Accuracy : %.2f (+/- %.2f) [%s]' % (score.mean(), score.std(), model_name))"
   ]
  },
  {
   "cell_type": "code",
   "execution_count": 37,
   "id": "b51e409f",
   "metadata": {},
   "outputs": [],
   "source": [
    "# Soft voting\n",
    "model1 = SVC(probability = True)\n",
    "model2 = GaussianNB()\n",
    "model3 = RandomForestClassifier()\n",
    "vote_model = VotingClassifier(estimators = [('svc', model1), ('navie', model2), ('forest', model3)], voting = 'soft', weights = [2,1,2])"
   ]
  },
  {
   "cell_type": "code",
   "execution_count": 38,
   "id": "eedccd2f",
   "metadata": {},
   "outputs": [
    {
     "name": "stdout",
     "output_type": "stream",
     "text": [
      "Accuracy : 0.97 (+/- 0.02) [SVC]\n",
      "Accuracy : 0.95 (+/- 0.03) [GaussianNB]\n",
      "Accuracy : 0.95 (+/- 0.03) [RandomForestClassifier]\n",
      "Accuracy : 0.96 (+/- 0.02) [VotingClassifier]\n"
     ]
    }
   ],
   "source": [
    "for model in (model1, model2, model3, vote_model):\n",
    "    model_name = str(type(model)).split('.')[-1][:-2]\n",
    "    score = cross_val_score(model, iris.data, iris.target, cv = 5)\n",
    "    print('Accuracy : %.2f (+/- %.2f) [%s]' % (score.mean(), score.std(), model_name))"
   ]
  },
  {
   "cell_type": "markdown",
   "id": "c86fb5ce",
   "metadata": {},
   "source": [
    "## XGBoost"
   ]
  },
  {
   "cell_type": "markdown",
   "id": "3285161c",
   "metadata": {},
   "source": [
    "- 트리 기반의 앙상블 기법\n",
    "- 분류에 있어서 다른 알고리즘보다 좋은 예측 성능을 보여줌\n",
    "- XGBoost는 GBM 기반이지만, GBM의 단점인 느린 수행시간과 과적합 규제 부재 등의 문제를 해결\n",
    "- 병렬 CPU 환경에서 빠르게 학습 가능\n",
    "- kaggle 도전 데이터 과학자에서 5년 연속 1위한 알고리즘"
   ]
  },
  {
   "cell_type": "code",
   "execution_count": 43,
   "id": "136ec62a",
   "metadata": {},
   "outputs": [],
   "source": [
    "#!pip install xgboost"
   ]
  },
  {
   "cell_type": "code",
   "execution_count": 45,
   "id": "f37e1447",
   "metadata": {},
   "outputs": [],
   "source": [
    "from xgboost import XGBClassifier\n",
    "from xgboost import plot_importance\n",
    "from sklearn.metrics import accuracy_score, classification_report"
   ]
  },
  {
   "cell_type": "code",
   "execution_count": 46,
   "id": "a59e3acd",
   "metadata": {},
   "outputs": [],
   "source": [
    "X_train, X_test, y_train, y_test = train_test_split(cancer.data, cancer.target, test_size = .2, random_state = 123)"
   ]
  },
  {
   "cell_type": "code",
   "execution_count": 50,
   "id": "bebc44bc",
   "metadata": {},
   "outputs": [
    {
     "data": {
      "text/plain": [
       "XGBClassifier(base_score=0.5, booster='gbtree', callbacks=None,\n",
       "              colsample_bylevel=1, colsample_bynode=1, colsample_bytree=1,\n",
       "              early_stopping_rounds=None, enable_categorical=False,\n",
       "              eval_metric=None, gamma=0, gpu_id=-1, grow_policy='depthwise',\n",
       "              importance_type=None, interaction_constraints='',\n",
       "              learning_rate=0.1, max_bin=256, max_cat_to_onehot=4,\n",
       "              max_delta_step=0, max_depth=3, max_leaves=0, min_child_weight=1,\n",
       "              missing=nan, monotone_constraints='()', n_estimators=400,\n",
       "              n_jobs=0, num_parallel_tree=1, predictor='auto', random_state=0,\n",
       "              reg_alpha=0, reg_lambda=1, ...)"
      ]
     },
     "execution_count": 50,
     "metadata": {},
     "output_type": "execute_result"
    }
   ],
   "source": [
    "xgbc = XGBClassifier(n_estimators = 400, learning_rate = 0.1, max_depth = 3)\n",
    "xgbc.fit(X_train, y_train)"
   ]
  },
  {
   "cell_type": "code",
   "execution_count": 51,
   "id": "79d00f68",
   "metadata": {},
   "outputs": [
    {
     "data": {
      "image/png": "[encoded data removed]",
      "text/plain": [
       "<Figure size 432x288 with 1 Axes>"
      ]
     },
     "metadata": {
      "needs_background": "light"
     },
     "output_type": "display_data"
    }
   ],
   "source": [
    "# 중요 변수 확인 및 시각화 : y에 영향을 미치는 변수\n",
    "plot_importance(xgbc)\n",
    "plt.yticks(range(len(cancer.feature_names)), cancer.feature_names)\n",
    "plt.show()"
   ]
  },
  {
   "cell_type": "code",
   "execution_count": 53,
   "id": "8b025592",
   "metadata": {},
   "outputs": [
    {
     "name": "stdout",
     "output_type": "stream",
     "text": [
      "0.9736842105263158\n"
     ]
    }
   ],
   "source": [
    "y_pred = xgbc.predict(X_test)\n",
    "print(accuracy_score(y_test, y_pred))"
   ]
  },
  {
   "cell_type": "code",
   "execution_count": 54,
   "id": "74e84bd0",
   "metadata": {},
   "outputs": [
    {
     "name": "stdout",
     "output_type": "stream",
     "text": [
      "              precision    recall  f1-score   support\n",
      "\n",
      "           0       0.97      0.95      0.96        41\n",
      "           1       0.97      0.99      0.98        73\n",
      "\n",
      "    accuracy                           0.97       114\n",
      "   macro avg       0.97      0.97      0.97       114\n",
      "weighted avg       0.97      0.97      0.97       114\n",
      "\n"
     ]
    }
   ],
   "source": [
    "print(classification_report(y_test, y_pred))"
   ]
  }
 ],
 "metadata": {
  "kernelspec": {
   "display_name": "Python 3",
   "language": "python",
   "name": "python3"
  },
  "language_info": {
   "codemirror_mode": {
    "name": "ipython",
    "version": 3
   },
   "file_extension": ".py",
   "mimetype": "text/x-python",
   "name": "python",
   "nbconvert_exporter": "python",
   "pygments_lexer": "ipython3",
   "version": "3.8.8"
  }
 },
 "nbformat": 4,
 "nbformat_minor": 5
}
