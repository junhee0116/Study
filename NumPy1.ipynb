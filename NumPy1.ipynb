{
 "cells": [
  {
   "cell_type": "markdown",
   "metadata": {
    "colab_type": "text",
    "id": "oR5hNBH-Retd"
   },
   "source": [
    "# NumPy\n",
    "\n",
    "* Numerical Python의 약자\n",
    "\n",
    "* 다양한 수학 연산과 다차원 데이터를 쉽게 다루기 위한 파이썬 라이브러리\n",
    "\n",
    "* Numpy는 ndarray라고 하는 특별한 객체를 사용\n",
    "    + 리스트와 달리 고정된 크기를 갖음\n",
    "    + 같은 타입의 데이터만 저장 가능\n",
    "\n",
    "* ndarray는 python 리스트에서 지원하지 않는 다양한 기능들을 지원\n",
    "    + 효율적으로 코드 작성 가능\n",
    "    + 더 빠른 속도"
   ]
  },
  {
   "cell_type": "code",
   "execution_count": 70,
   "metadata": {},
   "outputs": [
    {
     "name": "stdout",
     "output_type": "stream",
     "text": [
      "Requirement already satisfied: numpy in c:\\users\\wnsgm\\anaconda3\\lib\\site-packages (1.19.5)\n"
     ]
    }
   ],
   "source": [
    "!pip install numpy"
   ]
  },
  {
   "cell_type": "code",
   "execution_count": 2,
   "metadata": {
    "colab": {
     "base_uri": "https://localhost:8080/",
     "height": 35
    },
    "colab_type": "code",
    "executionInfo": {
     "elapsed": 690,
     "status": "ok",
     "timestamp": 1594131704336,
     "user": {
      "displayName": "Suan Lee",
      "photoUrl": "https://lh3.googleusercontent.com/a-/AOh14Ggrbbtm0GIFbgQl9jEH-C8dVBtk90Lcr33g5Dx5OJo=s64",
      "userId": "05284829446034665596"
     },
     "user_tz": -540
    },
    "id": "R9klTdhLQ564",
    "outputId": "ecaba8a8-d49f-4fce-9a33-f2cb81c853f3"
   },
   "outputs": [
    {
     "data": {
      "text/plain": [
       "'1.19.5'"
      ]
     },
     "execution_count": 2,
     "metadata": {},
     "output_type": "execute_result"
    }
   ],
   "source": [
    "import numpy as np\n",
    "np.__version__"
   ]
  },
  {
   "cell_type": "markdown",
   "metadata": {
    "colab_type": "text",
    "id": "2hSWC5ptGyWP"
   },
   "source": [
    "\n",
    "\n",
    "---\n",
    "\n"
   ]
  },
  {
   "cell_type": "markdown",
   "metadata": {
    "colab_type": "text",
    "id": "1kgkJZFlVUqk"
   },
   "source": [
    "# 배열 생성"
   ]
  },
  {
   "cell_type": "markdown",
   "metadata": {
    "colab_type": "text",
    "id": "5eQ4sAkMbzm0"
   },
   "source": [
    "## 리스트로 배열 만들기\n",
    "![1.2 Array.png](https://drive.google.com/uc?id=1EKPVGuDQinETf6XkcKFYaQfqp5P2oklE)"
   ]
  },
  {
   "cell_type": "code",
   "execution_count": 3,
   "metadata": {
    "colab": {
     "base_uri": "https://localhost:8080/",
     "height": 104
    },
    "colab_type": "code",
    "executionInfo": {
     "elapsed": 659,
     "status": "ok",
     "timestamp": 1594131954853,
     "user": {
      "displayName": "Suan Lee",
      "photoUrl": "https://lh3.googleusercontent.com/a-/AOh14Ggrbbtm0GIFbgQl9jEH-C8dVBtk90Lcr33g5Dx5OJo=s64",
      "userId": "05284829446034665596"
     },
     "user_tz": -540
    },
    "id": "Mtod2jcPWVvV",
    "outputId": "9e6e0355-01b6-4515-91b5-fd5a789c255a"
   },
   "outputs": [
    {
     "name": "stdout",
     "output_type": "stream",
     "text": [
      "[1 2 3 4 5]\n",
      "<class 'numpy.ndarray'>\n",
      "(5,)\n",
      "1 2 3\n"
     ]
    }
   ],
   "source": [
    "a1 = np.array([1, 2, 3, 4, 5])\n",
    "print(a1)\n",
    "print(type(a1))\n",
    "print(a1.shape)\n",
    "print(a1[0], a1[1], a1[2])"
   ]
  },
  {
   "cell_type": "code",
   "execution_count": 4,
   "metadata": {
    "colab": {
     "base_uri": "https://localhost:8080/",
     "height": 104
    },
    "colab_type": "code",
    "executionInfo": {
     "elapsed": 873,
     "status": "ok",
     "timestamp": 1594132076955,
     "user": {
      "displayName": "Suan Lee",
      "photoUrl": "https://lh3.googleusercontent.com/a-/AOh14Ggrbbtm0GIFbgQl9jEH-C8dVBtk90Lcr33g5Dx5OJo=s64",
      "userId": "05284829446034665596"
     },
     "user_tz": -540
    },
    "id": "vp9tkHH8esXT",
    "outputId": "a55c55df-55d6-4241-c7a0-08f16d4f6e74"
   },
   "outputs": [
    {
     "name": "stdout",
     "output_type": "stream",
     "text": [
      "[[1 2 3]\n",
      " [4 5 6]]\n",
      "<class 'numpy.ndarray'>\n",
      "(2, 3)\n",
      "1 5\n"
     ]
    }
   ],
   "source": [
    "a2 = np.array([[1, 2, 3], [4, 5, 6]])\n",
    "print(a2)\n",
    "print(type(a2))\n",
    "print(a2.shape)\n",
    "print(a2[0, 0], a2[1, 1])"
   ]
  },
  {
   "cell_type": "code",
   "execution_count": 5,
   "metadata": {
    "colab": {
     "base_uri": "https://localhost:8080/",
     "height": 225
    },
    "colab_type": "code",
    "executionInfo": {
     "elapsed": 674,
     "status": "ok",
     "timestamp": 1594132171257,
     "user": {
      "displayName": "Suan Lee",
      "photoUrl": "https://lh3.googleusercontent.com/a-/AOh14Ggrbbtm0GIFbgQl9jEH-C8dVBtk90Lcr33g5Dx5OJo=s64",
      "userId": "05284829446034665596"
     },
     "user_tz": -540
    },
    "id": "Baj4gZ2meuJu",
    "outputId": "081838fe-aabb-4343-88d8-c7bf843f1b9e"
   },
   "outputs": [
    {
     "name": "stdout",
     "output_type": "stream",
     "text": [
      "[[[1 2 3 4]\n",
      "  [4 5 6 7]\n",
      "  [9 0 1 2]]\n",
      "\n",
      " [[3 4 5 6]\n",
      "  [7 8 9 0]\n",
      "  [1 2 3 4]]]\n",
      "(2, 3, 4)\n"
     ]
    }
   ],
   "source": [
    "a3 = np.array([[[1, 2, 3, 4], [4, 5, 6, 7], [9, 0 , 1, 2]],\n",
    "               [[3, 4, 5, 6], [7, 8 ,9, 0], [1, 2, 3, 4]]])\n",
    "print(a3)\n",
    "print(a3.shape)"
   ]
  },
  {
   "cell_type": "markdown",
   "metadata": {
    "colab_type": "text",
    "id": "PNkKtw4CoSDB"
   },
   "source": [
    "## 배열 생성 및 초기화"
   ]
  },
  {
   "cell_type": "markdown",
   "metadata": {
    "colab_type": "text",
    "id": "mJVii5p_VfgM"
   },
   "source": [
    "* `zeros()`: 모든 요소를 0으로 초기화"
   ]
  },
  {
   "cell_type": "code",
   "execution_count": 6,
   "metadata": {
    "colab": {
     "base_uri": "https://localhost:8080/",
     "height": 35
    },
    "colab_type": "code",
    "executionInfo": {
     "elapsed": 663,
     "status": "ok",
     "timestamp": 1594132209770,
     "user": {
      "displayName": "Suan Lee",
      "photoUrl": "https://lh3.googleusercontent.com/a-/AOh14Ggrbbtm0GIFbgQl9jEH-C8dVBtk90Lcr33g5Dx5OJo=s64",
      "userId": "05284829446034665596"
     },
     "user_tz": -540
    },
    "id": "W_SF1tVoVTf1",
    "outputId": "396cc660-9d80-4e7b-f712-b0a3c7ed9690"
   },
   "outputs": [
    {
     "data": {
      "text/plain": [
       "array([0., 0., 0., 0., 0., 0., 0., 0., 0., 0.])"
      ]
     },
     "execution_count": 6,
     "metadata": {},
     "output_type": "execute_result"
    }
   ],
   "source": [
    "np.zeros(10)"
   ]
  },
  {
   "cell_type": "markdown",
   "metadata": {
    "colab_type": "text",
    "id": "LjYFQrODVqhX"
   },
   "source": [
    "* `ones()`: 모든 요소를 1로 초기화"
   ]
  },
  {
   "cell_type": "code",
   "execution_count": 7,
   "metadata": {
    "colab": {
     "base_uri": "https://localhost:8080/",
     "height": 69
    },
    "colab_type": "code",
    "executionInfo": {
     "elapsed": 735,
     "status": "ok",
     "timestamp": 1594132242624,
     "user": {
      "displayName": "Suan Lee",
      "photoUrl": "https://lh3.googleusercontent.com/a-/AOh14Ggrbbtm0GIFbgQl9jEH-C8dVBtk90Lcr33g5Dx5OJo=s64",
      "userId": "05284829446034665596"
     },
     "user_tz": -540
    },
    "id": "MURoqsMsVeUw",
    "outputId": "41690394-514f-4f86-8329-cb3efc008bca"
   },
   "outputs": [
    {
     "data": {
      "text/plain": [
       "array([[1., 1., 1.],\n",
       "       [1., 1., 1.]])"
      ]
     },
     "execution_count": 7,
     "metadata": {},
     "output_type": "execute_result"
    }
   ],
   "source": [
    "np.ones((2, 3))"
   ]
  },
  {
   "cell_type": "markdown",
   "metadata": {
    "colab_type": "text",
    "id": "jnmm3Cj-cGtx"
   },
   "source": [
    "* `full()`: 모든 요소를 지정한 값으로 초기화"
   ]
  },
  {
   "cell_type": "code",
   "execution_count": 8,
   "metadata": {
    "colab": {
     "base_uri": "https://localhost:8080/",
     "height": 69
    },
    "colab_type": "code",
    "executionInfo": {
     "elapsed": 658,
     "status": "ok",
     "timestamp": 1594132273350,
     "user": {
      "displayName": "Suan Lee",
      "photoUrl": "https://lh3.googleusercontent.com/a-/AOh14Ggrbbtm0GIFbgQl9jEH-C8dVBtk90Lcr33g5Dx5OJo=s64",
      "userId": "05284829446034665596"
     },
     "user_tz": -540
    },
    "id": "oscabrdcV7Ny",
    "outputId": "f73c3b2d-a470-46d7-8422-4a478144e157"
   },
   "outputs": [
    {
     "data": {
      "text/plain": [
       "array([[1.23, 1.23, 1.23],\n",
       "       [1.23, 1.23, 1.23]])"
      ]
     },
     "execution_count": 8,
     "metadata": {},
     "output_type": "execute_result"
    }
   ],
   "source": [
    "np.full((2, 3), 1.23)"
   ]
  },
  {
   "cell_type": "markdown",
   "metadata": {
    "colab_type": "text",
    "id": "0SRI4jbmlIKc"
   },
   "source": [
    "* `eye()`: 단위행렬(identity matrix) 생성\n",
    "  + 주대각선의 원소가 모두 1이고 나머지 원소는 모두 0인 정사각 행렬"
   ]
  },
  {
   "cell_type": "code",
   "execution_count": 9,
   "metadata": {
    "colab": {
     "base_uri": "https://localhost:8080/",
     "height": 69
    },
    "colab_type": "code",
    "executionInfo": {
     "elapsed": 840,
     "status": "ok",
     "timestamp": 1594132311868,
     "user": {
      "displayName": "Suan Lee",
      "photoUrl": "https://lh3.googleusercontent.com/a-/AOh14Ggrbbtm0GIFbgQl9jEH-C8dVBtk90Lcr33g5Dx5OJo=s64",
      "userId": "05284829446034665596"
     },
     "user_tz": -540
    },
    "id": "VceBVLLjk9o5",
    "outputId": "d932111d-6849-4062-8172-efea2241cbc4"
   },
   "outputs": [
    {
     "data": {
      "text/plain": [
       "array([[1., 0., 0.],\n",
       "       [0., 1., 0.],\n",
       "       [0., 0., 1.]])"
      ]
     },
     "execution_count": 9,
     "metadata": {},
     "output_type": "execute_result"
    }
   ],
   "source": [
    "np.eye(3)"
   ]
  },
  {
   "cell_type": "markdown",
   "metadata": {
    "colab_type": "text",
    "id": "7CCH1ZMT5R02"
   },
   "source": [
    "* `tri()`: 삼각행렬 생성"
   ]
  },
  {
   "cell_type": "code",
   "execution_count": 10,
   "metadata": {
    "colab": {
     "base_uri": "https://localhost:8080/",
     "height": 69
    },
    "colab_type": "code",
    "executionInfo": {
     "elapsed": 705,
     "status": "ok",
     "timestamp": 1594132331193,
     "user": {
      "displayName": "Suan Lee",
      "photoUrl": "https://lh3.googleusercontent.com/a-/AOh14Ggrbbtm0GIFbgQl9jEH-C8dVBtk90Lcr33g5Dx5OJo=s64",
      "userId": "05284829446034665596"
     },
     "user_tz": -540
    },
    "id": "mLe2Bhj05VYu",
    "outputId": "7fb4fec4-1a8e-4ba5-9201-f9b3842bd1cd"
   },
   "outputs": [
    {
     "data": {
      "text/plain": [
       "array([[1., 0., 0.],\n",
       "       [1., 1., 0.],\n",
       "       [1., 1., 1.]])"
      ]
     },
     "execution_count": 10,
     "metadata": {},
     "output_type": "execute_result"
    }
   ],
   "source": [
    "np.tri(3)"
   ]
  },
  {
   "cell_type": "markdown",
   "metadata": {
    "colab_type": "text",
    "id": "ObZRA4HclZlO"
   },
   "source": [
    "* `empty()`: 초기화되지 않은 배열 생성\n",
    "  + 초기화가 없어서 배열 생성비용 저렴하고 빠름\n",
    "  + 초기화되지 않아서 기존 메모리 위치에 존재하는 값이 있음"
   ]
  },
  {
   "cell_type": "code",
   "execution_count": 11,
   "metadata": {
    "colab": {
     "base_uri": "https://localhost:8080/",
     "height": 35
    },
    "colab_type": "code",
    "executionInfo": {
     "elapsed": 690,
     "status": "ok",
     "timestamp": 1594132352422,
     "user": {
      "displayName": "Suan Lee",
      "photoUrl": "https://lh3.googleusercontent.com/a-/AOh14Ggrbbtm0GIFbgQl9jEH-C8dVBtk90Lcr33g5Dx5OJo=s64",
      "userId": "05284829446034665596"
     },
     "user_tz": -540
    },
    "id": "I3SoFgiglAkz",
    "outputId": "e79df171-95ff-4622-84c1-70dc33cc19b4"
   },
   "outputs": [
    {
     "data": {
      "text/plain": [
       "array([0., 0., 0., 0., 0., 0., 0., 0., 0., 0.])"
      ]
     },
     "execution_count": 11,
     "metadata": {},
     "output_type": "execute_result"
    }
   ],
   "source": [
    "np.empty(10)"
   ]
  },
  {
   "cell_type": "markdown",
   "metadata": {
    "colab_type": "text",
    "id": "p3uSl1Ccmi5_"
   },
   "source": [
    "* `_like()`: 지정된 배열과 shape가 같은 행렬 생성\n",
    "  + `np.zeros_like()`\n",
    "  + `np.ones_like()`\n",
    "  + `np.full_like()`\n",
    "  + `np.empty_like()`"
   ]
  },
  {
   "cell_type": "code",
   "execution_count": 12,
   "metadata": {
    "colab": {
     "base_uri": "https://localhost:8080/",
     "height": 52
    },
    "colab_type": "code",
    "executionInfo": {
     "elapsed": 685,
     "status": "ok",
     "timestamp": 1594132429682,
     "user": {
      "displayName": "Suan Lee",
      "photoUrl": "https://lh3.googleusercontent.com/a-/AOh14Ggrbbtm0GIFbgQl9jEH-C8dVBtk90Lcr33g5Dx5OJo=s64",
      "userId": "05284829446034665596"
     },
     "user_tz": -540
    },
    "id": "Ad5RskRRlZLs",
    "outputId": "94b0c972-e57d-4852-dabc-8a01596fcc1f"
   },
   "outputs": [
    {
     "name": "stdout",
     "output_type": "stream",
     "text": [
      "[1 2 3 4 5]\n"
     ]
    },
    {
     "data": {
      "text/plain": [
       "array([0, 0, 0, 0, 0])"
      ]
     },
     "execution_count": 12,
     "metadata": {},
     "output_type": "execute_result"
    }
   ],
   "source": [
    "print(a1)\n",
    "np.zeros_like(a1)"
   ]
  },
  {
   "cell_type": "code",
   "execution_count": 13,
   "metadata": {
    "colab": {
     "base_uri": "https://localhost:8080/",
     "height": 121
    },
    "colab_type": "code",
    "executionInfo": {
     "elapsed": 715,
     "status": "ok",
     "timestamp": 1594132452864,
     "user": {
      "displayName": "Suan Lee",
      "photoUrl": "https://lh3.googleusercontent.com/a-/AOh14Ggrbbtm0GIFbgQl9jEH-C8dVBtk90Lcr33g5Dx5OJo=s64",
      "userId": "05284829446034665596"
     },
     "user_tz": -540
    },
    "id": "KChUHsG003Nf",
    "outputId": "34e00094-659b-4acf-a811-a5c6133b4bb1"
   },
   "outputs": [
    {
     "name": "stdout",
     "output_type": "stream",
     "text": [
      "[[1 2 3]\n",
      " [4 5 6]]\n"
     ]
    },
    {
     "data": {
      "text/plain": [
       "array([[1, 1, 1],\n",
       "       [1, 1, 1]])"
      ]
     },
     "execution_count": 13,
     "metadata": {},
     "output_type": "execute_result"
    }
   ],
   "source": [
    "print(a2)\n",
    "np.ones_like(a2)"
   ]
  },
  {
   "cell_type": "code",
   "execution_count": 14,
   "metadata": {
    "colab": {
     "base_uri": "https://localhost:8080/",
     "height": 399
    },
    "colab_type": "code",
    "executionInfo": {
     "elapsed": 650,
     "status": "ok",
     "timestamp": 1594132475513,
     "user": {
      "displayName": "Suan Lee",
      "photoUrl": "https://lh3.googleusercontent.com/a-/AOh14Ggrbbtm0GIFbgQl9jEH-C8dVBtk90Lcr33g5Dx5OJo=s64",
      "userId": "05284829446034665596"
     },
     "user_tz": -540
    },
    "id": "PUnDz6b305Gg",
    "outputId": "e1d46426-1f67-47c2-8e99-473327f4ae74"
   },
   "outputs": [
    {
     "name": "stdout",
     "output_type": "stream",
     "text": [
      "[[[1 2 3 4]\n",
      "  [4 5 6 7]\n",
      "  [9 0 1 2]]\n",
      "\n",
      " [[3 4 5 6]\n",
      "  [7 8 9 0]\n",
      "  [1 2 3 4]]]\n"
     ]
    },
    {
     "data": {
      "text/plain": [
       "array([[[10, 10, 10, 10],\n",
       "        [10, 10, 10, 10],\n",
       "        [10, 10, 10, 10]],\n",
       "\n",
       "       [[10, 10, 10, 10],\n",
       "        [10, 10, 10, 10],\n",
       "        [10, 10, 10, 10]]])"
      ]
     },
     "execution_count": 14,
     "metadata": {},
     "output_type": "execute_result"
    }
   ],
   "source": [
    "print(a3)\n",
    "np.full_like(a3, 10)"
   ]
  },
  {
   "cell_type": "markdown",
   "metadata": {
    "colab_type": "text",
    "id": "apoksGJNrn1z"
   },
   "source": [
    "## 생성한 값으로 배열 생성"
   ]
  },
  {
   "cell_type": "markdown",
   "metadata": {
    "colab_type": "text",
    "id": "H3nmLct8cnV8"
   },
   "source": [
    "* `arange()`: 정수 범위로 배열 생성"
   ]
  },
  {
   "cell_type": "code",
   "execution_count": 15,
   "metadata": {
    "colab": {
     "base_uri": "https://localhost:8080/",
     "height": 35
    },
    "colab_type": "code",
    "executionInfo": {
     "elapsed": 1023,
     "status": "ok",
     "timestamp": 1594132529321,
     "user": {
      "displayName": "Suan Lee",
      "photoUrl": "https://lh3.googleusercontent.com/a-/AOh14Ggrbbtm0GIFbgQl9jEH-C8dVBtk90Lcr33g5Dx5OJo=s64",
      "userId": "05284829446034665596"
     },
     "user_tz": -540
    },
    "id": "mANy4WY4cDKa",
    "outputId": "c8b1761d-65af-499a-c881-bd68a657c8b5"
   },
   "outputs": [
    {
     "data": {
      "text/plain": [
       "array([ 0,  2,  4,  6,  8, 10, 12, 14, 16, 18, 20, 22, 24, 26, 28])"
      ]
     },
     "execution_count": 15,
     "metadata": {},
     "output_type": "execute_result"
    }
   ],
   "source": [
    "np.arange(0, 30, 2)"
   ]
  },
  {
   "cell_type": "markdown",
   "metadata": {
    "colab_type": "text",
    "id": "s5kET1e6itlo"
   },
   "source": [
    "* `linspace()`: 범위 내에서 균등 간격의 배열 생성"
   ]
  },
  {
   "cell_type": "code",
   "execution_count": 16,
   "metadata": {
    "colab": {
     "base_uri": "https://localhost:8080/",
     "height": 35
    },
    "colab_type": "code",
    "executionInfo": {
     "elapsed": 664,
     "status": "ok",
     "timestamp": 1594132567627,
     "user": {
      "displayName": "Suan Lee",
      "photoUrl": "https://lh3.googleusercontent.com/a-/AOh14Ggrbbtm0GIFbgQl9jEH-C8dVBtk90Lcr33g5Dx5OJo=s64",
      "userId": "05284829446034665596"
     },
     "user_tz": -540
    },
    "id": "u4q9gI7Zcltz",
    "outputId": "5f7b725d-1295-45ad-d2e8-6f87e2e47375"
   },
   "outputs": [
    {
     "data": {
      "text/plain": [
       "array([0.  , 0.25, 0.5 , 0.75, 1.  ])"
      ]
     },
     "execution_count": 16,
     "metadata": {},
     "output_type": "execute_result"
    }
   ],
   "source": [
    "np.linspace(0, 1, 5)"
   ]
  },
  {
   "cell_type": "markdown",
   "metadata": {
    "colab_type": "text",
    "id": "6_88s4_Jr7fO"
   },
   "source": [
    "## 랜덤값으로 배열 생성\n",
    "\n",
    "| 함수 | 설명 |\n",
    "|------|------|\n",
    "| `seed` | 난수 발생을 위한 시드(seed) 지정 |\n",
    "| `permutation` | 순서를 임의로 바꾸거나 임의의 순열 반환 |\n",
    "| `shuffle` | 리스트나 배열의 순서를 뒤섞음 |\n",
    "| `random` | 랜덤한 수의 배열 생성 |\n",
    "| `rand` | 균등분포에서 표본 추출 |\n",
    "| `randint` | 주어진 최소/최대 범위의 난수 추출 |\n",
    "| `randn` | 표준편차가 1, 평균값 0인 정규분포의 표본 추출 |\n",
    "| `binomial` | 이항분포에서 표본 추출 |\n",
    "| `normal` | 정규분포(가우시안)에서 표본 추출 |\n",
    "| `beta` | 베타분포에서 표본 추출 |\n",
    "| `chisquare` | 카이제곱분포에서 표본 추출 |\n",
    "| `gamma` | 감마분포에서 표본 추출 |\n",
    "| `uniform` | 균등(0, 1)분포에서 표본 추출 |"
   ]
  },
  {
   "cell_type": "markdown",
   "metadata": {
    "colab_type": "text",
    "id": "CoK1cVUkjNMg"
   },
   "source": [
    "* `random.random()`: 랜덤한 수의 배열 생성"
   ]
  },
  {
   "cell_type": "code",
   "execution_count": 17,
   "metadata": {
    "colab": {
     "base_uri": "https://localhost:8080/",
     "height": 69
    },
    "colab_type": "code",
    "executionInfo": {
     "elapsed": 693,
     "status": "ok",
     "timestamp": 1594132690664,
     "user": {
      "displayName": "Suan Lee",
      "photoUrl": "https://lh3.googleusercontent.com/a-/AOh14Ggrbbtm0GIFbgQl9jEH-C8dVBtk90Lcr33g5Dx5OJo=s64",
      "userId": "05284829446034665596"
     },
     "user_tz": -540
    },
    "id": "qJwccKEnjMze",
    "outputId": "3a980588-19a9-4cb1-acab-13a379b4c002"
   },
   "outputs": [
    {
     "data": {
      "text/plain": [
       "array([[0.75775605, 0.42146794, 0.96734908],\n",
       "       [0.42706887, 0.79795592, 0.18479153],\n",
       "       [0.23201566, 0.77573692, 0.34375015]])"
      ]
     },
     "execution_count": 17,
     "metadata": {},
     "output_type": "execute_result"
    }
   ],
   "source": [
    "np.random.random((3, 3))"
   ]
  },
  {
   "cell_type": "markdown",
   "metadata": {
    "colab_type": "text",
    "id": "BYsAVwA1kvDI"
   },
   "source": [
    "* `random.randint()`: 일정 구간의 랜덤 정수의 배열 생성"
   ]
  },
  {
   "cell_type": "code",
   "execution_count": 18,
   "metadata": {
    "colab": {
     "base_uri": "https://localhost:8080/",
     "height": 69
    },
    "colab_type": "code",
    "executionInfo": {
     "elapsed": 693,
     "status": "ok",
     "timestamp": 1594132723878,
     "user": {
      "displayName": "Suan Lee",
      "photoUrl": "https://lh3.googleusercontent.com/a-/AOh14Ggrbbtm0GIFbgQl9jEH-C8dVBtk90Lcr33g5Dx5OJo=s64",
      "userId": "05284829446034665596"
     },
     "user_tz": -540
    },
    "id": "oR-UszZ_jqfQ",
    "outputId": "f3fe696a-c043-4281-e188-a0788c0a145f"
   },
   "outputs": [
    {
     "data": {
      "text/plain": [
       "array([[8, 9, 1],\n",
       "       [5, 4, 6],\n",
       "       [4, 7, 1]])"
      ]
     },
     "execution_count": 18,
     "metadata": {},
     "output_type": "execute_result"
    }
   ],
   "source": [
    "np.random.randint(0, 10, (3, 3))"
   ]
  },
  {
   "cell_type": "markdown",
   "metadata": {
    "colab_type": "text",
    "id": "2r557WHsjrL3"
   },
   "source": [
    "* `random.normal()`: 정규분포(normal distribution)를 고려한 랜덤한 수의 배열 생성\n",
    "* 평균=0, 표준편차=1, 3 x 3 배열"
   ]
  },
  {
   "cell_type": "code",
   "execution_count": 19,
   "metadata": {
    "colab": {
     "base_uri": "https://localhost:8080/",
     "height": 69
    },
    "colab_type": "code",
    "executionInfo": {
     "elapsed": 777,
     "status": "ok",
     "timestamp": 1594132777278,
     "user": {
      "displayName": "Suan Lee",
      "photoUrl": "https://lh3.googleusercontent.com/a-/AOh14Ggrbbtm0GIFbgQl9jEH-C8dVBtk90Lcr33g5Dx5OJo=s64",
      "userId": "05284829446034665596"
     },
     "user_tz": -540
    },
    "id": "Oan3bSpHi2Wq",
    "outputId": "afe215e7-19ac-421c-dd82-cf214d1875d0"
   },
   "outputs": [
    {
     "data": {
      "text/plain": [
       "array([[ 1.52173115,  0.70555187,  0.58224713],\n",
       "       [ 1.15112198, -0.11930602,  0.06817123],\n",
       "       [ 0.19131934, -0.08630302, -0.45826731]])"
      ]
     },
     "execution_count": 19,
     "metadata": {},
     "output_type": "execute_result"
    }
   ],
   "source": [
    "np.random.normal(0, 1, (3, 3))"
   ]
  },
  {
   "cell_type": "markdown",
   "metadata": {
    "colab_type": "text",
    "id": "fPO-D1rHsrFw"
   },
   "source": [
    "* `random.rand()`: 균등분포(uniform distribution)를 고려한 랜덤한 수의 배열 생성"
   ]
  },
  {
   "cell_type": "code",
   "execution_count": 20,
   "metadata": {
    "colab": {
     "base_uri": "https://localhost:8080/",
     "height": 69
    },
    "colab_type": "code",
    "executionInfo": {
     "elapsed": 874,
     "status": "ok",
     "timestamp": 1594132794094,
     "user": {
      "displayName": "Suan Lee",
      "photoUrl": "https://lh3.googleusercontent.com/a-/AOh14Ggrbbtm0GIFbgQl9jEH-C8dVBtk90Lcr33g5Dx5OJo=s64",
      "userId": "05284829446034665596"
     },
     "user_tz": -540
    },
    "id": "DxiyEjnXnDUT",
    "outputId": "46d8909e-5985-447f-9761-64a2a9116b62"
   },
   "outputs": [
    {
     "data": {
      "text/plain": [
       "array([[0.15241715, 0.03793346, 0.79776152],\n",
       "       [0.30736308, 0.71257885, 0.25892649],\n",
       "       [0.08531414, 0.64556656, 0.83022492]])"
      ]
     },
     "execution_count": 20,
     "metadata": {},
     "output_type": "execute_result"
    }
   ],
   "source": [
    "np.random.rand(3, 3)"
   ]
  },
  {
   "cell_type": "markdown",
   "metadata": {
    "colab_type": "text",
    "id": "IegH2dsPLQgd"
   },
   "source": [
    "* `random.randn()`: 표준 정규 분포(standard normal distribution)를 고려한 랜덤한 수의 배열 생성"
   ]
  },
  {
   "cell_type": "code",
   "execution_count": 21,
   "metadata": {
    "colab": {
     "base_uri": "https://localhost:8080/",
     "height": 69
    },
    "colab_type": "code",
    "executionInfo": {
     "elapsed": 904,
     "status": "ok",
     "timestamp": 1594132811027,
     "user": {
      "displayName": "Suan Lee",
      "photoUrl": "https://lh3.googleusercontent.com/a-/AOh14Ggrbbtm0GIFbgQl9jEH-C8dVBtk90Lcr33g5Dx5OJo=s64",
      "userId": "05284829446034665596"
     },
     "user_tz": -540
    },
    "id": "V61VHa-JLIma",
    "outputId": "4064392c-bb86-4282-cbc9-856de1124cfa"
   },
   "outputs": [
    {
     "data": {
      "text/plain": [
       "array([[-0.41151502, -1.10172544, -0.04218077],\n",
       "       [ 0.84061905,  0.58197563, -0.59409171],\n",
       "       [ 0.16882397, -2.06203487, -1.10352456]])"
      ]
     },
     "execution_count": 21,
     "metadata": {},
     "output_type": "execute_result"
    }
   ],
   "source": [
    "np.random.randn(3, 3)"
   ]
  },
  {
   "cell_type": "markdown",
   "metadata": {},
   "source": [
    "## 표준 데이터 타입\n",
    "\n",
    "| 데이터 타입\t    | 설명 |\n",
    "|---------------|-------------|\n",
    "| ``bool_``     | 바이트로 저장된 불리언(Boolean)으로 True 또는 False 값을 가짐 |\n",
    "| ``int_``      | 기본 정수(Integer) 타입 | \n",
    "| ``intc``      | C 언어에서 사용되는 ``int``와 동일 (일반적으로 ``int32`` 또는 ``int64``) | \n",
    "| ``intp``      | 인덱싱에 사용되는 정수 (C 언어에서 ``ssize_t``와 동일; 일반적으로 ``int32`` 또는 ``int64``) | \n",
    "| ``int8``      | 바이트(Byte) (-128 ~ 127) | \n",
    "| ``int16``     | 정수 (-32768 ~ 32767) |\n",
    "| ``int32``     | 정수 (-2147483648 ~ 2147483647) |\n",
    "| ``int64``     | 정수(-9223372036854775808 ~ 9223372036854775807) | \n",
    "| ``uint8``     | 부호 없는 정수 (0 ~ 255) | \n",
    "| ``uint16``    | 부호 없는 정수 (0 ~ 65535) | \n",
    "| ``uint32``    | 부호 없는 정수 (0 ~ 4294967295) | \n",
    "| ``uint64``    | 부호 없는 정수 (0 ~ 18446744073709551615) |  \n",
    "| ``float16``   | 반정밀 부동 소수점(Half precision float): 부호 비트, 5비트 지수, 10비트 가수 | \n",
    "| ``float32``   | 단정밀 부동 소수점(Single precision float): 부호 비트, 8비트 지수, 23비트 가수| \n",
    "| ``float64``   | 배정밀 부동 소수점(Double precision float): 부호 비트, 11비트 지수, 52비트 가수 |\n",
    "| ``float_``    | ``float64``를 줄여서 표현 |\n",
    "| ``complex64`` | 복소수(Complex number), 두 개의 32비트 부동 소수점으로 표현 | \n",
    "| ``complex128``| 복소수, 두 개의 64비트 부동 소수점으로 표현| \n",
    "| ``complex_``  | ``complex128``를 줄여서 표현 | "
   ]
  },
  {
   "cell_type": "code",
   "execution_count": 22,
   "metadata": {},
   "outputs": [
    {
     "data": {
      "text/plain": [
       "array([0, 0, 0, 0, 0, 0, 0, 0, 0, 0, 0, 0, 0, 0, 0, 0, 0, 0, 0, 0])"
      ]
     },
     "execution_count": 22,
     "metadata": {},
     "output_type": "execute_result"
    }
   ],
   "source": [
    "np.zeros(20, dtype = int)"
   ]
  },
  {
   "cell_type": "code",
   "execution_count": 23,
   "metadata": {},
   "outputs": [
    {
     "data": {
      "text/plain": [
       "array([[ True,  True,  True],\n",
       "       [ True,  True,  True],\n",
       "       [ True,  True,  True]])"
      ]
     },
     "execution_count": 23,
     "metadata": {},
     "output_type": "execute_result"
    }
   ],
   "source": [
    "np.ones((3, 3), dtype = bool)"
   ]
  },
  {
   "cell_type": "code",
   "execution_count": 24,
   "metadata": {},
   "outputs": [
    {
     "data": {
      "text/plain": [
       "array([[1., 1., 1.],\n",
       "       [1., 1., 1.],\n",
       "       [1., 1., 1.]])"
      ]
     },
     "execution_count": 24,
     "metadata": {},
     "output_type": "execute_result"
    }
   ],
   "source": [
    "np.full((3, 3), 1, dtype = float)"
   ]
  },
  {
   "cell_type": "markdown",
   "metadata": {
    "colab_type": "text",
    "id": "5AREIamhGxAr"
   },
   "source": [
    "\n",
    "\n",
    "---\n",
    "\n"
   ]
  },
  {
   "cell_type": "markdown",
   "metadata": {
    "colab_type": "text",
    "id": "d88tkTqbBE5V"
   },
   "source": [
    "# 배열 조회"
   ]
  },
  {
   "cell_type": "markdown",
   "metadata": {
    "colab_type": "text",
    "id": "vRqwfbjtFnPn"
   },
   "source": [
    "## 배열 속성 정보"
   ]
  },
  {
   "cell_type": "code",
   "execution_count": 25,
   "metadata": {
    "colab": {},
    "colab_type": "code",
    "id": "R5Rlcll7GXrM"
   },
   "outputs": [],
   "source": [
    "def array_info(array):\n",
    "    print(array)\n",
    "    print(\"ndim :\", array.ndim)\n",
    "    print(\"shape :\", array.shape)\n",
    "    print(\"dtype :\", array.dtype)\n",
    "    print(\"size :\", array.size)\n",
    "    print(\"itemsize :\", array.itemsize)\n",
    "    print(\"nbytes :\", array.nbytes)\n",
    "    print(\"strides :\", array.strides)"
   ]
  },
  {
   "cell_type": "code",
   "execution_count": 26,
   "metadata": {
    "colab": {
     "base_uri": "https://localhost:8080/",
     "height": 156
    },
    "colab_type": "code",
    "executionInfo": {
     "elapsed": 693,
     "status": "ok",
     "timestamp": 1594133317932,
     "user": {
      "displayName": "Suan Lee",
      "photoUrl": "https://lh3.googleusercontent.com/a-/AOh14Ggrbbtm0GIFbgQl9jEH-C8dVBtk90Lcr33g5Dx5OJo=s64",
      "userId": "05284829446034665596"
     },
     "user_tz": -540
    },
    "id": "Na59LwA7KXZV",
    "outputId": "94d16c1d-7451-42ce-e1af-f23c879cdaaf"
   },
   "outputs": [
    {
     "name": "stdout",
     "output_type": "stream",
     "text": [
      "[1 2 3 4 5]\n",
      "ndim : 1\n",
      "shape : (5,)\n",
      "dtype : int32\n",
      "size : 5\n",
      "itemsize : 4\n",
      "nbytes : 20\n",
      "strides : (4,)\n"
     ]
    }
   ],
   "source": [
    "array_info(a1)"
   ]
  },
  {
   "cell_type": "code",
   "execution_count": 27,
   "metadata": {
    "colab": {
     "base_uri": "https://localhost:8080/",
     "height": 191
    },
    "colab_type": "code",
    "executionInfo": {
     "elapsed": 768,
     "status": "ok",
     "timestamp": 1594133402088,
     "user": {
      "displayName": "Suan Lee",
      "photoUrl": "https://lh3.googleusercontent.com/a-/AOh14Ggrbbtm0GIFbgQl9jEH-C8dVBtk90Lcr33g5Dx5OJo=s64",
      "userId": "05284829446034665596"
     },
     "user_tz": -540
    },
    "id": "Urzr_LsdLah0",
    "outputId": "af3a30ba-7513-4837-fe05-d21d085849c2"
   },
   "outputs": [
    {
     "name": "stdout",
     "output_type": "stream",
     "text": [
      "[[1 2 3]\n",
      " [4 5 6]]\n",
      "ndim : 2\n",
      "shape : (2, 3)\n",
      "dtype : int32\n",
      "size : 6\n",
      "itemsize : 4\n",
      "nbytes : 24\n",
      "strides : (12, 4)\n"
     ]
    }
   ],
   "source": [
    "array_info(a2)"
   ]
  },
  {
   "cell_type": "code",
   "execution_count": 28,
   "metadata": {
    "colab": {
     "base_uri": "https://localhost:8080/",
     "height": 329
    },
    "colab_type": "code",
    "executionInfo": {
     "elapsed": 440,
     "status": "ok",
     "timestamp": 1594133463887,
     "user": {
      "displayName": "Suan Lee",
      "photoUrl": "https://lh3.googleusercontent.com/a-/AOh14Ggrbbtm0GIFbgQl9jEH-C8dVBtk90Lcr33g5Dx5OJo=s64",
      "userId": "05284829446034665596"
     },
     "user_tz": -540
    },
    "id": "jktqh1lsLf4V",
    "outputId": "f22f5ffa-4342-4eff-f39b-8619513216f6"
   },
   "outputs": [
    {
     "name": "stdout",
     "output_type": "stream",
     "text": [
      "[[[1 2 3 4]\n",
      "  [4 5 6 7]\n",
      "  [9 0 1 2]]\n",
      "\n",
      " [[3 4 5 6]\n",
      "  [7 8 9 0]\n",
      "  [1 2 3 4]]]\n",
      "ndim : 3\n",
      "shape : (2, 3, 4)\n",
      "dtype : int32\n",
      "size : 24\n",
      "itemsize : 4\n",
      "nbytes : 96\n",
      "strides : (48, 16, 4)\n"
     ]
    }
   ],
   "source": [
    "array_info(a3)"
   ]
  },
  {
   "cell_type": "markdown",
   "metadata": {
    "colab_type": "text",
    "id": "LV1WfdBWFqDu"
   },
   "source": [
    "## 인덱싱(Indexing)"
   ]
  },
  {
   "cell_type": "code",
   "execution_count": 29,
   "metadata": {
    "colab": {
     "base_uri": "https://localhost:8080/",
     "height": 104
    },
    "colab_type": "code",
    "executionInfo": {
     "elapsed": 714,
     "status": "ok",
     "timestamp": 1594133569222,
     "user": {
      "displayName": "Suan Lee",
      "photoUrl": "https://lh3.googleusercontent.com/a-/AOh14Ggrbbtm0GIFbgQl9jEH-C8dVBtk90Lcr33g5Dx5OJo=s64",
      "userId": "05284829446034665596"
     },
     "user_tz": -540
    },
    "id": "Nyb7eDmGFr5m",
    "outputId": "f76ddbb6-0928-4060-8042-b6f2b8f532e7"
   },
   "outputs": [
    {
     "name": "stdout",
     "output_type": "stream",
     "text": [
      "[1 2 3 4 5]\n",
      "1\n",
      "3\n",
      "5\n",
      "4\n"
     ]
    }
   ],
   "source": [
    "print(a1)\n",
    "print(a1[0])\n",
    "print(a1[2])\n",
    "print(a1[-1])\n",
    "print(a1[-2])"
   ]
  },
  {
   "cell_type": "code",
   "execution_count": 30,
   "metadata": {
    "colab": {
     "base_uri": "https://localhost:8080/",
     "height": 139
    },
    "colab_type": "code",
    "executionInfo": {
     "elapsed": 701,
     "status": "ok",
     "timestamp": 1594133611363,
     "user": {
      "displayName": "Suan Lee",
      "photoUrl": "https://lh3.googleusercontent.com/a-/AOh14Ggrbbtm0GIFbgQl9jEH-C8dVBtk90Lcr33g5Dx5OJo=s64",
      "userId": "05284829446034665596"
     },
     "user_tz": -540
    },
    "id": "uHMNcQW3Kn-h",
    "outputId": "513b2ab8-ca12-4817-ed49-8033769867fa"
   },
   "outputs": [
    {
     "name": "stdout",
     "output_type": "stream",
     "text": [
      "[[1 2 3]\n",
      " [4 5 6]]\n",
      "1\n",
      "3\n",
      "6\n"
     ]
    }
   ],
   "source": [
    "print(a2)\n",
    "print(a2[0, 0])\n",
    "print(a2[0, 2])\n",
    "print(a2[1, -1])"
   ]
  },
  {
   "cell_type": "code",
   "execution_count": 31,
   "metadata": {
    "colab": {
     "base_uri": "https://localhost:8080/",
     "height": 277
    },
    "colab_type": "code",
    "executionInfo": {
     "elapsed": 853,
     "status": "ok",
     "timestamp": 1594133676277,
     "user": {
      "displayName": "Suan Lee",
      "photoUrl": "https://lh3.googleusercontent.com/a-/AOh14Ggrbbtm0GIFbgQl9jEH-C8dVBtk90Lcr33g5Dx5OJo=s64",
      "userId": "05284829446034665596"
     },
     "user_tz": -540
    },
    "id": "IX5yDMGiMxYZ",
    "outputId": "604e855e-17a6-48cd-b81c-9e56441a6cbe"
   },
   "outputs": [
    {
     "name": "stdout",
     "output_type": "stream",
     "text": [
      "[[[1 2 3 4]\n",
      "  [4 5 6 7]\n",
      "  [9 0 1 2]]\n",
      "\n",
      " [[3 4 5 6]\n",
      "  [7 8 9 0]\n",
      "  [1 2 3 4]]]\n",
      "1\n",
      "8\n",
      "2\n"
     ]
    }
   ],
   "source": [
    "print(a3)\n",
    "print(a3[0, 0, 0])\n",
    "print(a3[1, 1, 1])\n",
    "print(a3[0, -1, -1])"
   ]
  },
  {
   "cell_type": "markdown",
   "metadata": {
    "colab_type": "text",
    "id": "uSeXu2y_O4cu"
   },
   "source": [
    "## 슬라이싱(Slicing)"
   ]
  },
  {
   "cell_type": "markdown",
   "metadata": {
    "colab_type": "text",
    "id": "1hikO_6ZPp5m"
   },
   "source": [
    "* 슬라이싱 구문: `a[start:stop:step]`\n",
    "* 기본값: start=0, stop=ndim, step=1"
   ]
  },
  {
   "cell_type": "code",
   "execution_count": 32,
   "metadata": {
    "colab": {
     "base_uri": "https://localhost:8080/",
     "height": 121
    },
    "colab_type": "code",
    "executionInfo": {
     "elapsed": 739,
     "status": "ok",
     "timestamp": 1594133779912,
     "user": {
      "displayName": "Suan Lee",
      "photoUrl": "https://lh3.googleusercontent.com/a-/AOh14Ggrbbtm0GIFbgQl9jEH-C8dVBtk90Lcr33g5Dx5OJo=s64",
      "userId": "05284829446034665596"
     },
     "user_tz": -540
    },
    "id": "PYZOOCoVO7BF",
    "outputId": "821602ab-35a8-4ead-f110-994c0cfc1ee3"
   },
   "outputs": [
    {
     "name": "stdout",
     "output_type": "stream",
     "text": [
      "[1 2 3 4 5]\n",
      "[1 2]\n",
      "[2 3 4 5]\n",
      "[1 2 3]\n",
      "[1 3 5]\n",
      "[5 4 3 2 1]\n"
     ]
    }
   ],
   "source": [
    "print(a1)\n",
    "print(a1[0:2])\n",
    "print(a1[1:])\n",
    "print(a1[:3])\n",
    "print(a1[::2])\n",
    "print(a1[::-1])"
   ]
  },
  {
   "cell_type": "code",
   "execution_count": 33,
   "metadata": {
    "colab": {
     "base_uri": "https://localhost:8080/",
     "height": 225
    },
    "colab_type": "code",
    "executionInfo": {
     "elapsed": 724,
     "status": "ok",
     "timestamp": 1594133875032,
     "user": {
      "displayName": "Suan Lee",
      "photoUrl": "https://lh3.googleusercontent.com/a-/AOh14Ggrbbtm0GIFbgQl9jEH-C8dVBtk90Lcr33g5Dx5OJo=s64",
      "userId": "05284829446034665596"
     },
     "user_tz": -540
    },
    "id": "oULOFrBQWs1G",
    "outputId": "a7fff3e0-0254-4be0-fab0-b676811ce1b1"
   },
   "outputs": [
    {
     "name": "stdout",
     "output_type": "stream",
     "text": [
      "[[1 2 3]\n",
      " [4 5 6]]\n",
      "[4 5 6]\n",
      "[4 5 6]\n",
      "[[1 2]]\n",
      "[[6 5 4]]\n",
      "[[4 5 6]\n",
      " [1 2 3]]\n",
      "[[6 5 4]\n",
      " [3 2 1]]\n"
     ]
    }
   ],
   "source": [
    "print(a2)\n",
    "print(a2[1])\n",
    "print(a2[1, :])\n",
    "print(a2[:1, :2])\n",
    "print(a2[1:, ::-1])\n",
    "print(a2[::-1, ::1])\n",
    "print(a2[::-1, ::-1])"
   ]
  },
  {
   "cell_type": "markdown",
   "metadata": {
    "colab_type": "text",
    "id": "LD52bXAsBgbH"
   },
   "source": [
    "## 불리언 인덱싱(Boolean Indexing)\n",
    "\n",
    "* 배열 각 요소의 선택 여부를 불리언(True or False)로 지정\n",
    "* True 값인 인덱스의 값만 조회"
   ]
  },
  {
   "cell_type": "code",
   "execution_count": 34,
   "metadata": {
    "colab": {
     "base_uri": "https://localhost:8080/",
     "height": 69
    },
    "colab_type": "code",
    "executionInfo": {
     "elapsed": 1034,
     "status": "ok",
     "timestamp": 1594134058704,
     "user": {
      "displayName": "Suan Lee",
      "photoUrl": "https://lh3.googleusercontent.com/a-/AOh14Ggrbbtm0GIFbgQl9jEH-C8dVBtk90Lcr33g5Dx5OJo=s64",
      "userId": "05284829446034665596"
     },
     "user_tz": -540
    },
    "id": "pOvNsH2oBgz-",
    "outputId": "3b3e8def-0a62-490b-e86e-5ba02e1c9ace"
   },
   "outputs": [
    {
     "name": "stdout",
     "output_type": "stream",
     "text": [
      "[1 2 3 4 5]\n",
      "[2 3 5]\n",
      "[1 3 4]\n"
     ]
    }
   ],
   "source": [
    "print(a1)\n",
    "bi = [False, True, True, False, True]\n",
    "print(a1[bi])\n",
    "bi = [True, False, True, True, False]\n",
    "print(a1[bi])"
   ]
  },
  {
   "cell_type": "code",
   "execution_count": 35,
   "metadata": {
    "colab": {
     "base_uri": "https://localhost:8080/",
     "height": 139
    },
    "colab_type": "code",
    "executionInfo": {
     "elapsed": 1177,
     "status": "ok",
     "timestamp": 1594134129814,
     "user": {
      "displayName": "Suan Lee",
      "photoUrl": "https://lh3.googleusercontent.com/a-/AOh14Ggrbbtm0GIFbgQl9jEH-C8dVBtk90Lcr33g5Dx5OJo=s64",
      "userId": "05284829446034665596"
     },
     "user_tz": -540
    },
    "id": "EFfquM2kWHAU",
    "outputId": "b48c661f-451e-4e7e-c2a5-0ec98e6853d7"
   },
   "outputs": [
    {
     "name": "stdout",
     "output_type": "stream",
     "text": [
      "[[1 2 3]\n",
      " [4 5 6]]\n",
      "[[False False False]\n",
      " [False False False]]\n",
      "[]\n"
     ]
    }
   ],
   "source": [
    "print(a2)\n",
    "bi = np.random.randint(0, 2, (2, 3), dtype = bool)\n",
    "print(bi)\n",
    "print(a2[bi])"
   ]
  },
  {
   "cell_type": "markdown",
   "metadata": {
    "colab_type": "text",
    "id": "F71_PQF1GvTs"
   },
   "source": [
    "\n",
    "\n",
    "---\n",
    "\n"
   ]
  },
  {
   "cell_type": "markdown",
   "metadata": {
    "colab_type": "text",
    "id": "zDI5yQ58O-IX"
   },
   "source": [
    "# 배열 값 삽입/수정/삭제/복사"
   ]
  },
  {
   "cell_type": "markdown",
   "metadata": {
    "colab_type": "text",
    "id": "zajd1qpVOQYy"
   },
   "source": [
    "## 배열 값 삽입\n",
    "\n",
    "* `insert()`: 배열의 특정 위치에 값 삽입\n",
    "* axis를 지정하지 않으면 1차원 배열로 변환\n",
    "* 추가할 방향을 axis로 지정\n",
    "* 원본 배열 변경없이 새로운 배열 반환"
   ]
  },
  {
   "cell_type": "code",
   "execution_count": 36,
   "metadata": {
    "colab": {
     "base_uri": "https://localhost:8080/",
     "height": 69
    },
    "colab_type": "code",
    "executionInfo": {
     "elapsed": 732,
     "status": "ok",
     "timestamp": 1594134612571,
     "user": {
      "displayName": "Suan Lee",
      "photoUrl": "https://lh3.googleusercontent.com/a-/AOh14Ggrbbtm0GIFbgQl9jEH-C8dVBtk90Lcr33g5Dx5OJo=s64",
      "userId": "05284829446034665596"
     },
     "user_tz": -540
    },
    "id": "sedRT54rP395",
    "outputId": "b8c80571-a3e8-422f-b976-a4b06bb656a4"
   },
   "outputs": [
    {
     "name": "stdout",
     "output_type": "stream",
     "text": [
      "[1 2 3 4 5]\n",
      "[10  1  2  3  4  5]\n",
      "[ 1  2 10  3  4  5]\n"
     ]
    }
   ],
   "source": [
    "print(a1)\n",
    "b1 = np.insert(a1, 0, 10)\n",
    "print(b1)\n",
    "c1 = np.insert(a1, 2, 10)\n",
    "print(c1)"
   ]
  },
  {
   "cell_type": "code",
   "execution_count": 37,
   "metadata": {
    "colab": {
     "base_uri": "https://localhost:8080/",
     "height": 191
    },
    "colab_type": "code",
    "executionInfo": {
     "elapsed": 796,
     "status": "ok",
     "timestamp": 1594134690737,
     "user": {
      "displayName": "Suan Lee",
      "photoUrl": "https://lh3.googleusercontent.com/a-/AOh14Ggrbbtm0GIFbgQl9jEH-C8dVBtk90Lcr33g5Dx5OJo=s64",
      "userId": "05284829446034665596"
     },
     "user_tz": -540
    },
    "id": "zNmu1E4iQ6h-",
    "outputId": "c6c7022e-e394-495a-c0d0-227100405a26"
   },
   "outputs": [
    {
     "name": "stdout",
     "output_type": "stream",
     "text": [
      "[[1 2 3]\n",
      " [4 5 6]]\n",
      "[[ 1  2  3]\n",
      " [10 10 10]\n",
      " [ 4  5  6]]\n",
      "[[ 1 10  2  3]\n",
      " [ 4 10  5  6]]\n"
     ]
    }
   ],
   "source": [
    "print(a2)\n",
    "b2 = np.insert(a2, 1, 10, axis = 0)\n",
    "print(b2)\n",
    "c2 = np.insert(a2, 1, 10, axis = 1)\n",
    "print(c2)"
   ]
  },
  {
   "cell_type": "markdown",
   "metadata": {
    "colab_type": "text",
    "id": "OlEzG4ffNjyL"
   },
   "source": [
    "## 배열 값 수정\n",
    "\n",
    "* 배열의 인덱싱으로 접근하여 값 수정"
   ]
  },
  {
   "cell_type": "code",
   "execution_count": 38,
   "metadata": {
    "colab": {
     "base_uri": "https://localhost:8080/",
     "height": 104
    },
    "colab_type": "code",
    "executionInfo": {
     "elapsed": 699,
     "status": "ok",
     "timestamp": 1594134855055,
     "user": {
      "displayName": "Suan Lee",
      "photoUrl": "https://lh3.googleusercontent.com/a-/AOh14Ggrbbtm0GIFbgQl9jEH-C8dVBtk90Lcr33g5Dx5OJo=s64",
      "userId": "05284829446034665596"
     },
     "user_tz": -540
    },
    "id": "ec43i1KWNjeN",
    "outputId": "260ca879-67ce-4e3f-a1bc-6ce2fdad8883"
   },
   "outputs": [
    {
     "name": "stdout",
     "output_type": "stream",
     "text": [
      "[11 22 33  4  5]\n"
     ]
    }
   ],
   "source": [
    "a1[0] = 11\n",
    "a1[1] = 22\n",
    "a1[2] = 33\n",
    "print(a1)"
   ]
  },
  {
   "cell_type": "code",
   "execution_count": 39,
   "metadata": {},
   "outputs": [
    {
     "name": "stdout",
     "output_type": "stream",
     "text": [
      "[ 9  9 33  4  5]\n"
     ]
    }
   ],
   "source": [
    "a1[:2] = 9\n",
    "print(a1)"
   ]
  },
  {
   "cell_type": "code",
   "execution_count": 40,
   "metadata": {
    "colab": {
     "base_uri": "https://localhost:8080/",
     "height": 225
    },
    "colab_type": "code",
    "executionInfo": {
     "elapsed": 652,
     "status": "ok",
     "timestamp": 1594134965667,
     "user": {
      "displayName": "Suan Lee",
      "photoUrl": "https://lh3.googleusercontent.com/a-/AOh14Ggrbbtm0GIFbgQl9jEH-C8dVBtk90Lcr33g5Dx5OJo=s64",
      "userId": "05284829446034665596"
     },
     "user_tz": -540
    },
    "id": "IApNNx3NOMQh",
    "outputId": "f3bb53e6-ccf2-4bd7-b6c3-ad2e3896a1a2"
   },
   "outputs": [
    {
     "name": "stdout",
     "output_type": "stream",
     "text": [
      "[ 9  0 33  0  0]\n"
     ]
    }
   ],
   "source": [
    "i = np.array([1, 3, 4])\n",
    "a1[i] = 0\n",
    "print(a1)"
   ]
  },
  {
   "cell_type": "code",
   "execution_count": 41,
   "metadata": {},
   "outputs": [
    {
     "name": "stdout",
     "output_type": "stream",
     "text": [
      "[[1 2 3]\n",
      " [4 5 6]\n",
      " [7 8 9]]\n"
     ]
    }
   ],
   "source": [
    "a2 = np.array([[1, 2, 3], [4, 5, 6], [7, 8, 9]])\n",
    "print(a2)"
   ]
  },
  {
   "cell_type": "code",
   "execution_count": 42,
   "metadata": {},
   "outputs": [
    {
     "name": "stdout",
     "output_type": "stream",
     "text": [
      "[[11  2  3]\n",
      " [ 4 22  6]\n",
      " [ 7  8  9]]\n"
     ]
    }
   ],
   "source": [
    "a2[0, 0] = 11\n",
    "a2[1, 1] = 22\n",
    "print(a2)"
   ]
  },
  {
   "cell_type": "code",
   "execution_count": 43,
   "metadata": {},
   "outputs": [
    {
     "name": "stdout",
     "output_type": "stream",
     "text": [
      "[[ 1  1  1]\n",
      " [ 4 22  6]\n",
      " [ 7  8  9]]\n"
     ]
    }
   ],
   "source": [
    "a2[0] = 1\n",
    "print(a2)"
   ]
  },
  {
   "cell_type": "code",
   "execution_count": 44,
   "metadata": {},
   "outputs": [
    {
     "name": "stdout",
     "output_type": "stream",
     "text": [
      "[[ 1  1  1]\n",
      " [ 4 22 19]\n",
      " [ 7  8 19]]\n"
     ]
    }
   ],
   "source": [
    "a2[1:, 2] = 19\n",
    "print(a2)"
   ]
  },
  {
   "cell_type": "markdown",
   "metadata": {
    "colab_type": "text",
    "id": "emV7DgrITPcn"
   },
   "source": [
    "## 배열 값 삭제\n",
    "\n",
    "* `delete()`: 배열의 특정 위치에 값 삭제\n",
    "* axis를 지정하지 않으면 1차원 배열로 변환\n",
    "* 삭제할 방향을 axis로 지정\n",
    "* 원본 배열 변경없이 새로운 배열 반환"
   ]
  },
  {
   "cell_type": "code",
   "execution_count": 45,
   "metadata": {
    "colab": {
     "base_uri": "https://localhost:8080/",
     "height": 69
    },
    "colab_type": "code",
    "executionInfo": {
     "elapsed": 772,
     "status": "ok",
     "timestamp": 1594135062517,
     "user": {
      "displayName": "Suan Lee",
      "photoUrl": "https://lh3.googleusercontent.com/a-/AOh14Ggrbbtm0GIFbgQl9jEH-C8dVBtk90Lcr33g5Dx5OJo=s64",
      "userId": "05284829446034665596"
     },
     "user_tz": -540
    },
    "id": "I3k_Yx8lTRJ2",
    "outputId": "3dbcd75d-d676-4b78-911d-8d1bd1b5cfc9"
   },
   "outputs": [
    {
     "name": "stdout",
     "output_type": "stream",
     "text": [
      "[1 2 3 4 5]\n"
     ]
    }
   ],
   "source": [
    "a1 = np.array([1, 2, 3, 4, 5])\n",
    "print(a1)"
   ]
  },
  {
   "cell_type": "code",
   "execution_count": 46,
   "metadata": {
    "colab": {
     "base_uri": "https://localhost:8080/",
     "height": 156
    },
    "colab_type": "code",
    "executionInfo": {
     "elapsed": 708,
     "status": "ok",
     "timestamp": 1594135105559,
     "user": {
      "displayName": "Suan Lee",
      "photoUrl": "https://lh3.googleusercontent.com/a-/AOh14Ggrbbtm0GIFbgQl9jEH-C8dVBtk90Lcr33g5Dx5OJo=s64",
      "userId": "05284829446034665596"
     },
     "user_tz": -540
    },
    "id": "tRTwMIfJTq_y",
    "outputId": "aed79d0c-2957-4bcf-e222-1ceb135a003e"
   },
   "outputs": [
    {
     "name": "stdout",
     "output_type": "stream",
     "text": [
      "[1 3 4 5]\n",
      "[1 2 3 4 5]\n"
     ]
    }
   ],
   "source": [
    "b1 = np.delete(a1, 1)\n",
    "print(b1)\n",
    "print(a1)"
   ]
  },
  {
   "cell_type": "code",
   "execution_count": 47,
   "metadata": {},
   "outputs": [
    {
     "name": "stdout",
     "output_type": "stream",
     "text": [
      "[[1 2 3]\n",
      " [4 5 6]\n",
      " [7 8 9]]\n"
     ]
    }
   ],
   "source": [
    "a2 = np.array([[1, 2, 3], [4, 5, 6], [7, 8, 9]])\n",
    "print(a2)"
   ]
  },
  {
   "cell_type": "code",
   "execution_count": 48,
   "metadata": {},
   "outputs": [
    {
     "name": "stdout",
     "output_type": "stream",
     "text": [
      "[[1 2 3]\n",
      " [7 8 9]]\n"
     ]
    }
   ],
   "source": [
    "b2 = np.delete(a2, 1, axis = 0)\n",
    "print(b2)"
   ]
  },
  {
   "cell_type": "code",
   "execution_count": 49,
   "metadata": {},
   "outputs": [
    {
     "name": "stdout",
     "output_type": "stream",
     "text": [
      "[[1 3]\n",
      " [4 6]\n",
      " [7 9]]\n"
     ]
    }
   ],
   "source": [
    "c2 = np.delete(a2, 1, axis = 1)\n",
    "print(c2)"
   ]
  },
  {
   "cell_type": "markdown",
   "metadata": {
    "colab_type": "text",
    "id": "UydkYxV8Z6Fx"
   },
   "source": [
    "## 배열 복사\n",
    "\n",
    "* 리스트 자료형과 달리 배열의 슬라이스는 복사본이 아님"
   ]
  },
  {
   "cell_type": "code",
   "execution_count": 50,
   "metadata": {
    "colab": {
     "base_uri": "https://localhost:8080/",
     "height": 225
    },
    "colab_type": "code",
    "executionInfo": {
     "elapsed": 754,
     "status": "ok",
     "timestamp": 1594135221881,
     "user": {
      "displayName": "Suan Lee",
      "photoUrl": "https://lh3.googleusercontent.com/a-/AOh14Ggrbbtm0GIFbgQl9jEH-C8dVBtk90Lcr33g5Dx5OJo=s64",
      "userId": "05284829446034665596"
     },
     "user_tz": -540
    },
    "id": "n2_0L8KWZ7wH",
    "outputId": "88c969a2-c698-48ed-b40a-4dca683fe5d9"
   },
   "outputs": [
    {
     "name": "stdout",
     "output_type": "stream",
     "text": [
      "[[1 2 3]\n",
      " [4 5 6]\n",
      " [7 8 9]]\n"
     ]
    }
   ],
   "source": [
    "print(a2)"
   ]
  },
  {
   "cell_type": "code",
   "execution_count": 51,
   "metadata": {},
   "outputs": [
    {
     "name": "stdout",
     "output_type": "stream",
     "text": [
      "[[1 2]\n",
      " [4 5]]\n"
     ]
    }
   ],
   "source": [
    "a2_sub = a2[:2, :2]\n",
    "print(a2_sub)"
   ]
  },
  {
   "cell_type": "code",
   "execution_count": 52,
   "metadata": {},
   "outputs": [
    {
     "name": "stdout",
     "output_type": "stream",
     "text": [
      "[[1 0]\n",
      " [4 0]]\n",
      "[[1 0 3]\n",
      " [4 0 6]\n",
      " [7 8 9]]\n"
     ]
    }
   ],
   "source": [
    "a2_sub[:, 1] = 0\n",
    "print(a2_sub)\n",
    "print(a2)"
   ]
  },
  {
   "cell_type": "markdown",
   "metadata": {
    "colab_type": "text",
    "id": "UrQqOC1Eat5l"
   },
   "source": [
    "\n",
    "* `copy()`: 배열이나 하위 배열 내의 값을 명시적으로 복사"
   ]
  },
  {
   "cell_type": "code",
   "execution_count": 53,
   "metadata": {
    "colab": {
     "base_uri": "https://localhost:8080/",
     "height": 191
    },
    "colab_type": "code",
    "executionInfo": {
     "elapsed": 778,
     "status": "ok",
     "timestamp": 1594135349320,
     "user": {
      "displayName": "Suan Lee",
      "photoUrl": "https://lh3.googleusercontent.com/a-/AOh14Ggrbbtm0GIFbgQl9jEH-C8dVBtk90Lcr33g5Dx5OJo=s64",
      "userId": "05284829446034665596"
     },
     "user_tz": -540
    },
    "id": "hLBZ7Qn6bAKO",
    "outputId": "5c73332c-00e9-4624-de9f-ed948eb1642e"
   },
   "outputs": [
    {
     "name": "stdout",
     "output_type": "stream",
     "text": [
      "[[1 2 3]\n",
      " [4 5 6]\n",
      " [7 8 9]]\n"
     ]
    }
   ],
   "source": [
    "a2 = np.array([[1, 2, 3], [4, 5, 6], [7, 8, 9]])\n",
    "print(a2)"
   ]
  },
  {
   "cell_type": "code",
   "execution_count": 54,
   "metadata": {},
   "outputs": [
    {
     "name": "stdout",
     "output_type": "stream",
     "text": [
      "[[1 2]\n",
      " [4 5]]\n"
     ]
    }
   ],
   "source": [
    "a2_sub_copy = a2[:2, :2].copy()\n",
    "print(a2_sub_copy)"
   ]
  },
  {
   "cell_type": "code",
   "execution_count": 55,
   "metadata": {},
   "outputs": [
    {
     "name": "stdout",
     "output_type": "stream",
     "text": [
      "[[1 0]\n",
      " [4 0]]\n",
      "[[1 2 3]\n",
      " [4 5 6]\n",
      " [7 8 9]]\n"
     ]
    }
   ],
   "source": [
    "a2_sub_copy[:, 1] = 0\n",
    "print(a2_sub_copy)\n",
    "print(a2)"
   ]
  },
  {
   "cell_type": "markdown",
   "metadata": {
    "colab_type": "text",
    "id": "4HTc9FXOGtA7"
   },
   "source": [
    "\n",
    "\n",
    "---\n",
    "\n"
   ]
  },
  {
   "cell_type": "markdown",
   "metadata": {
    "colab_type": "text",
    "id": "XVZY082__yV6"
   },
   "source": [
    "# 배열 변환"
   ]
  },
  {
   "cell_type": "markdown",
   "metadata": {
    "colab_type": "text",
    "id": "Ec09aPeBO58M"
   },
   "source": [
    "## 배열 전치 및 축 변경"
   ]
  },
  {
   "cell_type": "code",
   "execution_count": 56,
   "metadata": {
    "colab": {
     "base_uri": "https://localhost:8080/",
     "height": 121
    },
    "colab_type": "code",
    "executionInfo": {
     "elapsed": 739,
     "status": "ok",
     "timestamp": 1594136104221,
     "user": {
      "displayName": "Suan Lee",
      "photoUrl": "https://lh3.googleusercontent.com/a-/AOh14Ggrbbtm0GIFbgQl9jEH-C8dVBtk90Lcr33g5Dx5OJo=s64",
      "userId": "05284829446034665596"
     },
     "user_tz": -540
    },
    "id": "anYByBpoWZmj",
    "outputId": "c0d79765-bba3-45ed-e584-c34a7caa1646"
   },
   "outputs": [
    {
     "name": "stdout",
     "output_type": "stream",
     "text": [
      "[[1 4 7]\n",
      " [2 5 8]\n",
      " [3 6 9]]\n"
     ]
    }
   ],
   "source": [
    "print(a2.T)"
   ]
  },
  {
   "cell_type": "code",
   "execution_count": 57,
   "metadata": {
    "colab": {
     "base_uri": "https://localhost:8080/",
     "height": 121
    },
    "colab_type": "code",
    "executionInfo": {
     "elapsed": 750,
     "status": "ok",
     "timestamp": 1594136178119,
     "user": {
      "displayName": "Suan Lee",
      "photoUrl": "https://lh3.googleusercontent.com/a-/AOh14Ggrbbtm0GIFbgQl9jEH-C8dVBtk90Lcr33g5Dx5OJo=s64",
      "userId": "05284829446034665596"
     },
     "user_tz": -540
    },
    "id": "6lPwXL8rRTfI",
    "outputId": "c4b9ad3a-d7b6-44cf-f679-dc8f171199e4"
   },
   "outputs": [
    {
     "name": "stdout",
     "output_type": "stream",
     "text": [
      "[[1 4 7]\n",
      " [2 5 8]\n",
      " [3 6 9]]\n"
     ]
    }
   ],
   "source": [
    "print(a2.swapaxes(1, 0))"
   ]
  },
  {
   "cell_type": "markdown",
   "metadata": {
    "colab_type": "text",
    "id": "M7xN8WdOdb_S"
   },
   "source": [
    "## 배열 재구조화\n"
   ]
  },
  {
   "cell_type": "markdown",
   "metadata": {
    "colab_type": "text",
    "id": "JwZJMpXGfY0V"
   },
   "source": [
    "* `reshape()`: 배열의 형상을 변경"
   ]
  },
  {
   "cell_type": "code",
   "execution_count": 58,
   "metadata": {
    "colab": {
     "base_uri": "https://localhost:8080/",
     "height": 87
    },
    "colab_type": "code",
    "executionInfo": {
     "elapsed": 884,
     "status": "ok",
     "timestamp": 1594136283905,
     "user": {
      "displayName": "Suan Lee",
      "photoUrl": "https://lh3.googleusercontent.com/a-/AOh14Ggrbbtm0GIFbgQl9jEH-C8dVBtk90Lcr33g5Dx5OJo=s64",
      "userId": "05284829446034665596"
     },
     "user_tz": -540
    },
    "id": "SlGQ17VQdd8i",
    "outputId": "59619fc2-9af6-45ef-f3ce-1deff1577892"
   },
   "outputs": [
    {
     "name": "stdout",
     "output_type": "stream",
     "text": [
      "[1 2 3 4 5 6 7 8 9]\n",
      "[[1 2 3]\n",
      " [4 5 6]\n",
      " [7 8 9]]\n"
     ]
    }
   ],
   "source": [
    "n1 = np.arange(1, 10)\n",
    "print(n1)\n",
    "\n",
    "print(n1.reshape(3, 3))"
   ]
  },
  {
   "cell_type": "markdown",
   "metadata": {
    "colab_type": "text",
    "id": "y_U1W-fQfuQY"
   },
   "source": [
    "* `newaxis()`: 새로운 축 추가. 한 차원 증가"
   ]
  },
  {
   "cell_type": "code",
   "execution_count": 59,
   "metadata": {},
   "outputs": [
    {
     "name": "stdout",
     "output_type": "stream",
     "text": [
      "[1 2 3 4 5 6 7 8 9]\n"
     ]
    }
   ],
   "source": [
    "print(n1)"
   ]
  },
  {
   "cell_type": "code",
   "execution_count": 60,
   "metadata": {
    "colab": {
     "base_uri": "https://localhost:8080/",
     "height": 139
    },
    "colab_type": "code",
    "executionInfo": {
     "elapsed": 703,
     "status": "ok",
     "timestamp": 1594136336798,
     "user": {
      "displayName": "Suan Lee",
      "photoUrl": "https://lh3.googleusercontent.com/a-/AOh14Ggrbbtm0GIFbgQl9jEH-C8dVBtk90Lcr33g5Dx5OJo=s64",
      "userId": "05284829446034665596"
     },
     "user_tz": -540
    },
    "id": "COif_weCfkGo",
    "outputId": "3f5228d0-8a54-4015-dd15-e9e2580266a8"
   },
   "outputs": [
    {
     "name": "stdout",
     "output_type": "stream",
     "text": [
      "[[3 4 5]]\n",
      "[[3]\n",
      " [4]\n",
      " [5]]\n"
     ]
    }
   ],
   "source": [
    "print(n1[np.newaxis, 2:5])\n",
    "\n",
    "print(n1[2:5, np.newaxis])"
   ]
  },
  {
   "cell_type": "markdown",
   "metadata": {
    "colab_type": "text",
    "id": "FR82RSDggbcJ"
   },
   "source": [
    "## 배열 크기 변경"
   ]
  },
  {
   "cell_type": "markdown",
   "metadata": {
    "colab_type": "text",
    "id": "D1LuDMVFl4tc"
   },
   "source": [
    "* `resize()`: 배열 크기 변경\n",
    "* element의 수가 같으면, 배열 모양만 변경\n",
    "* element의 sequence는 유지됨"
   ]
  },
  {
   "cell_type": "code",
   "execution_count": 61,
   "metadata": {
    "colab": {
     "base_uri": "https://localhost:8080/",
     "height": 139
    },
    "colab_type": "code",
    "executionInfo": {
     "elapsed": 778,
     "status": "ok",
     "timestamp": 1594136409046,
     "user": {
      "displayName": "Suan Lee",
      "photoUrl": "https://lh3.googleusercontent.com/a-/AOh14Ggrbbtm0GIFbgQl9jEH-C8dVBtk90Lcr33g5Dx5OJo=s64",
      "userId": "05284829446034665596"
     },
     "user_tz": -540
    },
    "id": "7B6pHlfxgdSJ",
    "outputId": "bea5208e-c37f-49b4-c9b1-dcf63b5192aa"
   },
   "outputs": [
    {
     "name": "stdout",
     "output_type": "stream",
     "text": [
      "[[2 4 7 6 2]\n",
      " [9 7 1 7 5]]\n"
     ]
    }
   ],
   "source": [
    "n2 = np.random.randint(0, 10, (2, 5))\n",
    "print(n2)"
   ]
  },
  {
   "cell_type": "code",
   "execution_count": 62,
   "metadata": {},
   "outputs": [
    {
     "name": "stdout",
     "output_type": "stream",
     "text": [
      "[[2 4]\n",
      " [7 6]\n",
      " [2 9]\n",
      " [7 1]\n",
      " [7 5]]\n"
     ]
    }
   ],
   "source": [
    "n2.resize((5, 2))\n",
    "print(n2)"
   ]
  },
  {
   "cell_type": "markdown",
   "metadata": {
    "colab_type": "text",
    "id": "s0adm-h9l6sv"
   },
   "source": [
    "* resize 크기가 원본 배열보다 크면, 남은 공간은 0으로 채워짐"
   ]
  },
  {
   "cell_type": "code",
   "execution_count": 63,
   "metadata": {
    "colab": {
     "base_uri": "https://localhost:8080/",
     "height": 104
    },
    "colab_type": "code",
    "executionInfo": {
     "elapsed": 773,
     "status": "ok",
     "timestamp": 1594136437747,
     "user": {
      "displayName": "Suan Lee",
      "photoUrl": "https://lh3.googleusercontent.com/a-/AOh14Ggrbbtm0GIFbgQl9jEH-C8dVBtk90Lcr33g5Dx5OJo=s64",
      "userId": "05284829446034665596"
     },
     "user_tz": -540
    },
    "id": "IrX0UcjrlWRV",
    "outputId": "bbf66652-cd36-4da8-84a6-a43c7a0587a3"
   },
   "outputs": [
    {
     "name": "stdout",
     "output_type": "stream",
     "text": [
      "[[2 4 7 6 2]\n",
      " [9 7 1 7 5]\n",
      " [0 0 0 0 0]\n",
      " [0 0 0 0 0]\n",
      " [0 0 0 0 0]]\n"
     ]
    }
   ],
   "source": [
    "n2.resize((5, 5))\n",
    "print(n2)"
   ]
  },
  {
   "cell_type": "code",
   "execution_count": 64,
   "metadata": {},
   "outputs": [
    {
     "data": {
      "text/plain": [
       "array([[2, 4, 7, 6, 2],\n",
       "       [9, 7, 1, 7, 5],\n",
       "       [0, 0, 0, 0, 0],\n",
       "       [0, 0, 0, 0, 0],\n",
       "       [0, 0, 0, 0, 0]])"
      ]
     },
     "execution_count": 64,
     "metadata": {},
     "output_type": "execute_result"
    }
   ],
   "source": [
    "np.resize(n2, (5, 5))"
   ]
  },
  {
   "cell_type": "markdown",
   "metadata": {
    "colab_type": "text",
    "id": "78hPDEzfl9JB"
   },
   "source": [
    "* resize 크기가 원본 배열보다 작으면, 기본 값은 삭제됨"
   ]
  },
  {
   "cell_type": "code",
   "execution_count": 65,
   "metadata": {},
   "outputs": [
    {
     "name": "stdout",
     "output_type": "stream",
     "text": [
      "[[2 4 7]\n",
      " [6 2 9]\n",
      " [7 1 7]]\n"
     ]
    }
   ],
   "source": [
    "n2.resize((3, 3))\n",
    "print(n2)"
   ]
  },
  {
   "cell_type": "markdown",
   "metadata": {
    "colab_type": "text",
    "id": "r9z2gD_pHyx9"
   },
   "source": [
    "## 배열 추가\n",
    "\n",
    "* `append()`: 배열의 끝에 값 추가"
   ]
  },
  {
   "cell_type": "code",
   "execution_count": 66,
   "metadata": {
    "colab": {
     "base_uri": "https://localhost:8080/",
     "height": 121
    },
    "colab_type": "code",
    "executionInfo": {
     "elapsed": 957,
     "status": "ok",
     "timestamp": 1594136512970,
     "user": {
      "displayName": "Suan Lee",
      "photoUrl": "https://lh3.googleusercontent.com/a-/AOh14Ggrbbtm0GIFbgQl9jEH-C8dVBtk90Lcr33g5Dx5OJo=s64",
      "userId": "05284829446034665596"
     },
     "user_tz": -540
    },
    "id": "fH4lpQKNH5s1",
    "outputId": "690ce687-2f41-49cb-a700-1ef6a251ceff"
   },
   "outputs": [
    {
     "name": "stdout",
     "output_type": "stream",
     "text": [
      "[[1 2 3]\n",
      " [4 5 6]\n",
      " [7 8 9]]\n",
      "[[10 11 12]\n",
      " [13 14 15]\n",
      " [16 17 18]]\n"
     ]
    }
   ],
   "source": [
    "a2 = np.arange(1, 10).reshape(3, 3)\n",
    "b2 = np.arange(10, 19).reshape(3, 3)\n",
    "print(a2)\n",
    "print(b2)"
   ]
  },
  {
   "cell_type": "markdown",
   "metadata": {
    "colab_type": "text",
    "id": "n8SMl5VVIquk"
   },
   "source": [
    "* axis 지정이 없으면 1차원 배열 형태로 변형되어 결합"
   ]
  },
  {
   "cell_type": "code",
   "execution_count": 67,
   "metadata": {
    "colab": {
     "base_uri": "https://localhost:8080/",
     "height": 35
    },
    "colab_type": "code",
    "executionInfo": {
     "elapsed": 748,
     "status": "ok",
     "timestamp": 1594136536572,
     "user": {
      "displayName": "Suan Lee",
      "photoUrl": "https://lh3.googleusercontent.com/a-/AOh14Ggrbbtm0GIFbgQl9jEH-C8dVBtk90Lcr33g5Dx5OJo=s64",
      "userId": "05284829446034665596"
     },
     "user_tz": -540
    },
    "id": "LRltk3yFIVsV",
    "outputId": "a42595ff-e6eb-43c7-fb08-d14003e2e439"
   },
   "outputs": [
    {
     "name": "stdout",
     "output_type": "stream",
     "text": [
      "[ 1  2  3  4  5  6  7  8  9 10 11 12 13 14 15 16 17 18]\n"
     ]
    }
   ],
   "source": [
    "c2 = np.append(a2, b2)\n",
    "print(c2)"
   ]
  },
  {
   "cell_type": "markdown",
   "metadata": {
    "colab_type": "text",
    "id": "sVW2UFVZJfpR"
   },
   "source": [
    "* axis를 0으로 지정 : 행 방향 결합"
   ]
  },
  {
   "cell_type": "code",
   "execution_count": 68,
   "metadata": {
    "colab": {
     "base_uri": "https://localhost:8080/",
     "height": 121
    },
    "colab_type": "code",
    "executionInfo": {
     "elapsed": 726,
     "status": "ok",
     "timestamp": 1594136578479,
     "user": {
      "displayName": "Suan Lee",
      "photoUrl": "https://lh3.googleusercontent.com/a-/AOh14Ggrbbtm0GIFbgQl9jEH-C8dVBtk90Lcr33g5Dx5OJo=s64",
      "userId": "05284829446034665596"
     },
     "user_tz": -540
    },
    "id": "nwJ4xLOeIbMg",
    "outputId": "f1417173-c8cd-42be-beda-0e67c7c0acf1"
   },
   "outputs": [
    {
     "name": "stdout",
     "output_type": "stream",
     "text": [
      "[[ 1  2  3]\n",
      " [ 4  5  6]\n",
      " [ 7  8  9]\n",
      " [10 11 12]\n",
      " [13 14 15]\n",
      " [16 17 18]]\n"
     ]
    }
   ],
   "source": [
    "c2 = np.append(a2, b2, axis = 0)\n",
    "print(c2)"
   ]
  },
  {
   "cell_type": "markdown",
   "metadata": {
    "colab_type": "text",
    "id": "4YXxzygaJmj-"
   },
   "source": [
    "* axis를 1로 지정 : 열 방향 결합"
   ]
  },
  {
   "cell_type": "code",
   "execution_count": 69,
   "metadata": {
    "colab": {
     "base_uri": "https://localhost:8080/",
     "height": 69
    },
    "colab_type": "code",
    "executionInfo": {
     "elapsed": 720,
     "status": "ok",
     "timestamp": 1594136609207,
     "user": {
      "displayName": "Suan Lee",
      "photoUrl": "https://lh3.googleusercontent.com/a-/AOh14Ggrbbtm0GIFbgQl9jEH-C8dVBtk90Lcr33g5Dx5OJo=s64",
      "userId": "05284829446034665596"
     },
     "user_tz": -540
    },
    "id": "JYE4_5gAJmYe",
    "outputId": "bcd3e863-f2ce-4706-f63e-0b26aa63e513"
   },
   "outputs": [
    {
     "name": "stdout",
     "output_type": "stream",
     "text": [
      "[[ 1  2  3 10 11 12]\n",
      " [ 4  5  6 13 14 15]\n",
      " [ 7  8  9 16 17 18]]\n"
     ]
    }
   ],
   "source": [
    "c2 = np.append(a2, b2, axis = 1)\n",
    "print(c2)"
   ]
  },
  {
   "cell_type": "markdown",
   "metadata": {
    "colab_type": "text",
    "id": "eYz74NYKo8iH"
   },
   "source": [
    "## 배열 분할"
   ]
  },
  {
   "cell_type": "markdown",
   "metadata": {
    "colab_type": "text",
    "id": "wjt2zku5pBmF"
   },
   "source": [
    "* `split()`: 배열 분할"
   ]
  },
  {
   "cell_type": "code",
   "execution_count": 70,
   "metadata": {
    "colab": {
     "base_uri": "https://localhost:8080/",
     "height": 69
    },
    "colab_type": "code",
    "executionInfo": {
     "elapsed": 831,
     "status": "ok",
     "timestamp": 1594136978103,
     "user": {
      "displayName": "Suan Lee",
      "photoUrl": "https://lh3.googleusercontent.com/a-/AOh14Ggrbbtm0GIFbgQl9jEH-C8dVBtk90Lcr33g5Dx5OJo=s64",
      "userId": "05284829446034665596"
     },
     "user_tz": -540
    },
    "id": "H_2e71heo-Eq",
    "outputId": "b3b87509-99e6-4bd5-c337-80c8c86bf6a3"
   },
   "outputs": [
    {
     "name": "stdout",
     "output_type": "stream",
     "text": [
      "[11 12 13 14 15 16 17 18 19 20]\n"
     ]
    }
   ],
   "source": [
    "a1 = np.arange(11, 21)\n",
    "print(a1)"
   ]
  },
  {
   "cell_type": "code",
   "execution_count": 71,
   "metadata": {},
   "outputs": [
    {
     "name": "stdout",
     "output_type": "stream",
     "text": [
      "[11 12 13 14 15] [16 17 18 19 20]\n"
     ]
    }
   ],
   "source": [
    "b1, c1 = np.split(a1, [5])\n",
    "print(b1, c1)"
   ]
  },
  {
   "cell_type": "code",
   "execution_count": 72,
   "metadata": {},
   "outputs": [
    {
     "name": "stdout",
     "output_type": "stream",
     "text": [
      "[11 12] [13 14] [15 16] [17 18] [19 20]\n"
     ]
    }
   ],
   "source": [
    "b1, c1, d1, e1, f1 = np.split(a1, [2, 4, 6, 8])\n",
    "print(b1, c1, d1, e1, f1)"
   ]
  },
  {
   "cell_type": "markdown",
   "metadata": {
    "colab_type": "text",
    "id": "IvvdCQcKsCLn"
   },
   "source": [
    "* `vsplit()`: 수직(y축) 분할. 행 분할"
   ]
  },
  {
   "cell_type": "code",
   "execution_count": 73,
   "metadata": {
    "colab": {
     "base_uri": "https://localhost:8080/",
     "height": 121
    },
    "colab_type": "code",
    "executionInfo": {
     "elapsed": 771,
     "status": "ok",
     "timestamp": 1594137035671,
     "user": {
      "displayName": "Suan Lee",
      "photoUrl": "https://lh3.googleusercontent.com/a-/AOh14Ggrbbtm0GIFbgQl9jEH-C8dVBtk90Lcr33g5Dx5OJo=s64",
      "userId": "05284829446034665596"
     },
     "user_tz": -540
    },
    "id": "GdMYlsiLsCoe",
    "outputId": "826739d5-039c-490a-eeba-e1426e33ce2f"
   },
   "outputs": [
    {
     "name": "stdout",
     "output_type": "stream",
     "text": [
      "[[1 2 3]\n",
      " [4 5 6]\n",
      " [7 8 9]]\n"
     ]
    }
   ],
   "source": [
    "a2 = np.arange(1, 10).reshape(3, 3)\n",
    "print(a2)"
   ]
  },
  {
   "cell_type": "code",
   "execution_count": 74,
   "metadata": {},
   "outputs": [
    {
     "name": "stdout",
     "output_type": "stream",
     "text": [
      "[[1 2 3]\n",
      " [4 5 6]]\n",
      "[[7 8 9]]\n"
     ]
    }
   ],
   "source": [
    "b2, c2 = np.vsplit(a2, [2])\n",
    "print(b2)\n",
    "print(c2)"
   ]
  },
  {
   "cell_type": "markdown",
   "metadata": {
    "colab_type": "text",
    "id": "1aC0a034rSXi"
   },
   "source": [
    "* `hsplit()`: 수평(x축) 분할. 열 분할"
   ]
  },
  {
   "cell_type": "code",
   "execution_count": 75,
   "metadata": {
    "colab": {
     "base_uri": "https://localhost:8080/",
     "height": 173
    },
    "colab_type": "code",
    "executionInfo": {
     "elapsed": 768,
     "status": "ok",
     "timestamp": 1594137055958,
     "user": {
      "displayName": "Suan Lee",
      "photoUrl": "https://lh3.googleusercontent.com/a-/AOh14Ggrbbtm0GIFbgQl9jEH-C8dVBtk90Lcr33g5Dx5OJo=s64",
      "userId": "05284829446034665596"
     },
     "user_tz": -540
    },
    "id": "ShMnE_bnrSBJ",
    "outputId": "4368eeb2-698d-4608-d996-3ff3cb0f2a1e"
   },
   "outputs": [
    {
     "name": "stdout",
     "output_type": "stream",
     "text": [
      "[[1 2]\n",
      " [4 5]\n",
      " [7 8]]\n",
      "[[3]\n",
      " [6]\n",
      " [9]]\n"
     ]
    }
   ],
   "source": [
    "b2, c2 = np.hsplit(a2, [2])\n",
    "print(b2)\n",
    "print(c2)"
   ]
  },
  {
   "cell_type": "markdown",
   "metadata": {
    "colab_type": "text",
    "id": "rK-zrDZuGoVd"
   },
   "source": [
    "\n",
    "\n",
    "---\n",
    "\n"
   ]
  },
  {
   "cell_type": "markdown",
   "metadata": {
    "colab_type": "text",
    "id": "Vc-iSWewJ3C1"
   },
   "source": [
    "# 배열 연산\n",
    "\n",
    "* NumPy의 배열 연산은 벡터화(vectorized) 연산을 사용\n",
    "* 일반적으로 NumPy의 범용 함수(universal functions)를 통해 구현\n",
    "* 배열 요소에 대한 반복적인 계산을 효율적으로 수행"
   ]
  },
  {
   "cell_type": "markdown",
   "metadata": {
    "colab_type": "text",
    "id": "Pg2er1A2w3cz"
   },
   "source": [
    "## 브로드캐스팅(Broadcasting)\n",
    "\n",
    "![1.3 Broadcasting.png](https://drive.google.com/uc?id=1iDTSzbR5GILf1-A7aTfNssG_IF6UZAD2)"
   ]
  },
  {
   "cell_type": "code",
   "execution_count": 76,
   "metadata": {
    "colab": {
     "base_uri": "https://localhost:8080/",
     "height": 260
    },
    "colab_type": "code",
    "executionInfo": {
     "elapsed": 761,
     "status": "ok",
     "timestamp": 1594137439275,
     "user": {
      "displayName": "Suan Lee",
      "photoUrl": "https://lh3.googleusercontent.com/a-/AOh14Ggrbbtm0GIFbgQl9jEH-C8dVBtk90Lcr33g5Dx5OJo=s64",
      "userId": "05284829446034665596"
     },
     "user_tz": -540
    },
    "id": "IGU-HRgr20nj",
    "outputId": "2ff69fe2-5a05-495f-f2ec-da2e5aaf83a2"
   },
   "outputs": [
    {
     "name": "stdout",
     "output_type": "stream",
     "text": [
      "[1 2 3]\n",
      "[6 7 8]\n"
     ]
    }
   ],
   "source": [
    "a1 = np.array([1, 2, 3])\n",
    "print(a1)\n",
    "print(a1 + 5)"
   ]
  },
  {
   "cell_type": "code",
   "execution_count": 77,
   "metadata": {},
   "outputs": [
    {
     "name": "stdout",
     "output_type": "stream",
     "text": [
      "[[1 2 3]\n",
      " [4 5 6]\n",
      " [7 8 9]]\n"
     ]
    }
   ],
   "source": [
    "a2 = np.arange(1, 10).reshape(3, 3)\n",
    "print(a2)"
   ]
  },
  {
   "cell_type": "code",
   "execution_count": 78,
   "metadata": {},
   "outputs": [
    {
     "name": "stdout",
     "output_type": "stream",
     "text": [
      "[[ 2  4  6]\n",
      " [ 5  7  9]\n",
      " [ 8 10 12]]\n"
     ]
    }
   ],
   "source": [
    "print(a1 + a2)"
   ]
  },
  {
   "cell_type": "code",
   "execution_count": 79,
   "metadata": {},
   "outputs": [
    {
     "name": "stdout",
     "output_type": "stream",
     "text": [
      "[[1]\n",
      " [2]\n",
      " [3]]\n"
     ]
    }
   ],
   "source": [
    "b2 = np.array([1, 2, 3]).reshape(3, 1)\n",
    "print(b2)"
   ]
  },
  {
   "cell_type": "code",
   "execution_count": 80,
   "metadata": {},
   "outputs": [
    {
     "name": "stdout",
     "output_type": "stream",
     "text": [
      "[[2 3 4]\n",
      " [3 4 5]\n",
      " [4 5 6]]\n"
     ]
    }
   ],
   "source": [
    "print(a1 + b2)"
   ]
  },
  {
   "cell_type": "markdown",
   "metadata": {
    "colab_type": "text",
    "id": "NZzLHHLmwl_b"
   },
   "source": [
    "## 산술 연산(Arithmetic Operators)"
   ]
  },
  {
   "cell_type": "markdown",
   "metadata": {
    "colab_type": "text",
    "id": "4oIlz0bNjK2m"
   },
   "source": [
    "| 연산자\t      | 범용 함수           | 설명        |\n",
    "|---------------|---------------------|-------------|\n",
    "|``+``          |``np.add``           | 덧셈        |\n",
    "|``-``          |``np.subtract``      | 뺄셈        |\n",
    "|``-``          |``np.negative``      | 단항 음수  |\n",
    "|``*``          |``np.multiply``      | 곱셈        |\n",
    "|``/``          |``np.divide``        | 나눗셈      |\n",
    "|``//``         |``np.floor_divide``  | 나눗셈 내림 |\n",
    "|``**``         |``np.power``         | 지수 연산   |\n",
    "|``%``          |``np.mod``           | 나머지 연산 |\n"
   ]
  },
  {
   "cell_type": "code",
   "execution_count": 81,
   "metadata": {
    "colab": {
     "base_uri": "https://localhost:8080/",
     "height": 312
    },
    "colab_type": "code",
    "executionInfo": {
     "elapsed": 795,
     "status": "ok",
     "timestamp": 1594137694940,
     "user": {
      "displayName": "Suan Lee",
      "photoUrl": "https://lh3.googleusercontent.com/a-/AOh14Ggrbbtm0GIFbgQl9jEH-C8dVBtk90Lcr33g5Dx5OJo=s64",
      "userId": "05284829446034665596"
     },
     "user_tz": -540
    },
    "id": "jHrIjHGEi05k",
    "outputId": "fc976452-301a-490a-a5dd-4fc730d64130"
   },
   "outputs": [
    {
     "name": "stdout",
     "output_type": "stream",
     "text": [
      "[1 2 3 4 5 6 7 8 9]\n"
     ]
    }
   ],
   "source": [
    "a1 = np.arange(1, 10)\n",
    "print(a1)"
   ]
  },
  {
   "cell_type": "code",
   "execution_count": 82,
   "metadata": {
    "colab": {
     "base_uri": "https://localhost:8080/",
     "height": 191
    },
    "colab_type": "code",
    "executionInfo": {
     "elapsed": 845,
     "status": "ok",
     "timestamp": 1594137784076,
     "user": {
      "displayName": "Suan Lee",
      "photoUrl": "https://lh3.googleusercontent.com/a-/AOh14Ggrbbtm0GIFbgQl9jEH-C8dVBtk90Lcr33g5Dx5OJo=s64",
      "userId": "05284829446034665596"
     },
     "user_tz": -540
    },
    "id": "sMUYzXk3psgC",
    "outputId": "85ef562f-7c3a-4372-a220-c667e2d2cb5c"
   },
   "outputs": [
    {
     "name": "stdout",
     "output_type": "stream",
     "text": [
      "[ 2  3  4  5  6  7  8  9 10]\n",
      "[11 12 13 14 15 16 17 18 19]\n"
     ]
    }
   ],
   "source": [
    "print(a1 + 1)\n",
    "print(np.add(a1, 10))"
   ]
  },
  {
   "cell_type": "code",
   "execution_count": 83,
   "metadata": {
    "colab": {
     "base_uri": "https://localhost:8080/",
     "height": 485
    },
    "colab_type": "code",
    "executionInfo": {
     "elapsed": 1301,
     "status": "ok",
     "timestamp": 1594137875881,
     "user": {
      "displayName": "Suan Lee",
      "photoUrl": "https://lh3.googleusercontent.com/a-/AOh14Ggrbbtm0GIFbgQl9jEH-C8dVBtk90Lcr33g5Dx5OJo=s64",
      "userId": "05284829446034665596"
     },
     "user_tz": -540
    },
    "id": "ZkyjPmk5onPK",
    "outputId": "f6cbde49-926e-455e-b9df-407c3d9a553c"
   },
   "outputs": [
    {
     "name": "stdout",
     "output_type": "stream",
     "text": [
      "[1 2 3 4 5 6 7 8 9]\n",
      "[3 1 8 1 3 7 9 2 5]\n"
     ]
    }
   ],
   "source": [
    "a1 = np.arange(1, 10)\n",
    "b1 = np.random.randint(1, 10, size = 9)\n",
    "print(a1)\n",
    "print(b1)"
   ]
  },
  {
   "cell_type": "code",
   "execution_count": 84,
   "metadata": {},
   "outputs": [
    {
     "name": "stdout",
     "output_type": "stream",
     "text": [
      "[ 4  3 11  5  8 13 16 10 14]\n",
      "[ 4  3 11  5  8 13 16 10 14]\n"
     ]
    }
   ],
   "source": [
    "print(a1 + b1)\n",
    "print(np.add(a1, b1))"
   ]
  },
  {
   "cell_type": "markdown",
   "metadata": {},
   "source": [
    "## 절대값 함수"
   ]
  },
  {
   "cell_type": "code",
   "execution_count": 88,
   "metadata": {},
   "outputs": [
    {
     "name": "stdout",
     "output_type": "stream",
     "text": [
      "[-2  9  0 -8 -2]\n",
      "[2 9 0 8 2]\n",
      "[2 9 0 8 2]\n"
     ]
    }
   ],
   "source": [
    "a1 = np.random.randint(-10, 10, size = 5)\n",
    "print(a1)\n",
    "print(np.absolute(a1))\n",
    "print(np.abs(a1))"
   ]
  },
  {
   "cell_type": "markdown",
   "metadata": {},
   "source": [
    "- square, sqrt : 제곱, 제곱근 함수"
   ]
  },
  {
   "cell_type": "code",
   "execution_count": 91,
   "metadata": {},
   "outputs": [
    {
     "name": "stdout",
     "output_type": "stream",
     "text": [
      "[ 4 81  0 64  4]\n",
      "[nan  3.  0. nan nan]\n"
     ]
    },
    {
     "name": "stderr",
     "output_type": "stream",
     "text": [
      "<ipython-input-91-512c423042f2>:4: RuntimeWarning: invalid value encountered in sqrt\n",
      "  print(np.sqrt(a1))\n"
     ]
    }
   ],
   "source": [
    "# 제곱/제곱근 함수\n",
    "\n",
    "print(np.square(a1))\n",
    "print(np.sqrt(a1))"
   ]
  },
  {
   "cell_type": "code",
   "execution_count": 92,
   "metadata": {},
   "outputs": [
    {
     "name": "stdout",
     "output_type": "stream",
     "text": [
      "[5 7 1 6 7]\n",
      "[ 148.4131591  1096.63315843    2.71828183  403.42879349 1096.63315843]\n",
      "[ 148.4131591  1096.63315843    2.71828183  403.42879349 1096.63315843]\n",
      "[25 49  1 36 49]\n"
     ]
    }
   ],
   "source": [
    "# 지수와 로그함수\n",
    "\n",
    "a1 = np.random.randint(1, 10, size = 5)\n",
    "print(a1)\n",
    "print(np.exp(a1))\n",
    "print(np.exp(a1))\n",
    "print(np.power(a1, 2))"
   ]
  },
  {
   "cell_type": "code",
   "execution_count": 93,
   "metadata": {},
   "outputs": [
    {
     "name": "stdout",
     "output_type": "stream",
     "text": [
      "[1.60943791 1.94591015 0.         1.79175947 1.94591015]\n",
      "[2.32192809 2.80735492 0.         2.5849625  2.80735492]\n",
      "[0.69897    0.84509804 0.         0.77815125 0.84509804]\n"
     ]
    }
   ],
   "source": [
    "print(np.log(a1))\n",
    "print(np.log2(a1))\n",
    "print(np.log10(a1))"
   ]
  },
  {
   "cell_type": "code",
   "execution_count": null,
   "metadata": {},
   "outputs": [],
   "source": []
  },
  {
   "cell_type": "code",
   "execution_count": 95,
   "metadata": {},
   "outputs": [
    {
     "name": "stdout",
     "output_type": "stream",
     "text": [
      "[[6 1 9]\n",
      " [7 4 9]\n",
      " [5 7 2]]\n",
      "50 50\n",
      "[18 12 20] [18 12 20]\n",
      "[16 20 14] [16 20 14]\n"
     ]
    }
   ],
   "source": [
    "a2 = np.random.randint(1, 10, size = (3, 3))\n",
    "print(a2)\n",
    "print(a2.sum(), np.sum(a2))\n",
    "print(a2.sum(axis = 0), np.sum(a2, axis = 0)) # 열방향 합\n",
    "print(a2.sum(axis = 1), np.sum(a2, axis = 1)) # 행방향 합"
   ]
  },
  {
   "cell_type": "code",
   "execution_count": 96,
   "metadata": {},
   "outputs": [
    {
     "name": "stdout",
     "output_type": "stream",
     "text": [
      "[[6 1 9]\n",
      " [7 4 9]\n",
      " [5 7 2]]\n",
      "[ 6  7 16 23 27 36 41 48 50]\n",
      "[[ 6  1  9]\n",
      " [13  5 18]\n",
      " [18 12 20]]\n",
      "[[ 6  7 16]\n",
      " [ 7 11 20]\n",
      " [ 5 12 14]]\n"
     ]
    }
   ],
   "source": [
    "print(a2)\n",
    "print(np.cumsum(a2))\n",
    "print(np.cumsum(a2, axis = 0))\n",
    "print(np.cumsum(a2, axis = 1))"
   ]
  },
  {
   "cell_type": "code",
   "execution_count": 97,
   "metadata": {},
   "outputs": [
    {
     "name": "stdout",
     "output_type": "stream",
     "text": [
      "[[6 1 9]\n",
      " [7 4 9]\n",
      " [5 7 2]]\n",
      "952560\n",
      "[210  28 162]\n",
      "[ 54 252  70]\n"
     ]
    }
   ],
   "source": [
    "print(a2)\n",
    "print(np.prod(a2))\n",
    "print(np.prod(a2, axis = 0))\n",
    "print(np.prod(a2, axis = 1))"
   ]
  },
  {
   "cell_type": "code",
   "execution_count": 98,
   "metadata": {},
   "outputs": [
    {
     "name": "stdout",
     "output_type": "stream",
     "text": [
      "[[6 1 9]\n",
      " [7 4 9]\n",
      " [5 7 2]]\n",
      "[     6      6     54    378   1512  13608  68040 476280 952560]\n",
      "[[  6   1   9]\n",
      " [ 42   4  81]\n",
      " [210  28 162]]\n",
      "[[  6   6  54]\n",
      " [  7  28 252]\n",
      " [  5  35  70]]\n"
     ]
    }
   ],
   "source": [
    "print(a2)\n",
    "print(np.cumprod(a2))\n",
    "print(np.cumprod(a2, axis = 0))\n",
    "print(np.cumprod(a2, axis = 1))"
   ]
  },
  {
   "cell_type": "code",
   "execution_count": 99,
   "metadata": {},
   "outputs": [
    {
     "name": "stdout",
     "output_type": "stream",
     "text": [
      "[[6 1 9]\n",
      " [7 4 9]\n",
      " [5 7 2]]\n",
      "[[1 1 1]\n",
      " [1 1 1]\n",
      " [1 1 1]]\n",
      "[[16 16 16]\n",
      " [20 20 20]\n",
      " [14 14 14]]\n",
      "[[16 16 16]\n",
      " [20 20 20]\n",
      " [14 14 14]]\n"
     ]
    }
   ],
   "source": [
    "print(a2)\n",
    "b2 = np.ones_like(a2)\n",
    "print(b2)\n",
    "print(np.dot(a2, b2))\n",
    "print(np.matmul(a2, b2))"
   ]
  },
  {
   "cell_type": "code",
   "execution_count": 101,
   "metadata": {},
   "outputs": [
    {
     "name": "stdout",
     "output_type": "stream",
     "text": [
      "[[6 1 9]\n",
      " [7 4 9]\n",
      " [5 7 2]]\n",
      "5.555555555555555\n",
      "[6.         4.         6.66666667]\n",
      "[5.33333333 6.66666667 4.66666667]\n"
     ]
    }
   ],
   "source": [
    "print(a2)\n",
    "print(np.mean(a2))\n",
    "print(np.mean(a2, axis = 0))\n",
    "print(np.mean(a2, axis = 1))"
   ]
  },
  {
   "cell_type": "code",
   "execution_count": 102,
   "metadata": {},
   "outputs": [
    {
     "name": "stdout",
     "output_type": "stream",
     "text": [
      "[[6 1 9]\n",
      " [7 4 9]\n",
      " [5 7 2]]\n",
      "2.671292284482513\n",
      "[0.81649658 2.44948974 3.29983165]\n",
      "[3.29983165 2.05480467 2.05480467]\n"
     ]
    }
   ],
   "source": [
    "print(a2)\n",
    "print(np.std(a2))\n",
    "print(np.std(a2, axis = 0))\n",
    "print(np.std(a2, axis = 1))"
   ]
  },
  {
   "cell_type": "code",
   "execution_count": 103,
   "metadata": {},
   "outputs": [
    {
     "name": "stdout",
     "output_type": "stream",
     "text": [
      "[[6 1 9]\n",
      " [7 4 9]\n",
      " [5 7 2]]\n",
      "7.135802469135803\n",
      "[ 0.66666667  6.         10.88888889]\n",
      "[10.88888889  4.22222222  4.22222222]\n"
     ]
    }
   ],
   "source": [
    "print(a2)\n",
    "print(np.var(a2))\n",
    "print(np.var(a2, axis = 0))\n",
    "print(np.var(a2, axis = 1))"
   ]
  },
  {
   "cell_type": "code",
   "execution_count": 104,
   "metadata": {},
   "outputs": [
    {
     "name": "stdout",
     "output_type": "stream",
     "text": [
      "[[6 1 9]\n",
      " [7 4 9]\n",
      " [5 7 2]]\n",
      "1\n",
      "[5 1 2]\n",
      "[1 4 2]\n"
     ]
    }
   ],
   "source": [
    "print(a2)\n",
    "print(np.min(a2))\n",
    "print(np.min(a2, axis = 0))\n",
    "print(np.min(a2, axis = 1))"
   ]
  },
  {
   "cell_type": "code",
   "execution_count": 105,
   "metadata": {},
   "outputs": [
    {
     "name": "stdout",
     "output_type": "stream",
     "text": [
      "[[6 1 9]\n",
      " [7 4 9]\n",
      " [5 7 2]]\n",
      "9\n",
      "[7 7 9]\n",
      "[9 9 7]\n"
     ]
    }
   ],
   "source": [
    "print(a2)\n",
    "print(np.max(a2))\n",
    "print(np.max(a2, axis = 0))\n",
    "print(np.max(a2, axis = 1))"
   ]
  },
  {
   "cell_type": "code",
   "execution_count": 106,
   "metadata": {},
   "outputs": [
    {
     "name": "stdout",
     "output_type": "stream",
     "text": [
      "[[6 1 9]\n",
      " [7 4 9]\n",
      " [5 7 2]]\n",
      "1\n",
      "[2 0 2]\n",
      "[1 1 2]\n"
     ]
    }
   ],
   "source": [
    "print(a2)\n",
    "print(np.argmin(a2))\n",
    "print(np.argmin(a2, axis = 0))\n",
    "print(np.argmin(a2, axis = 1))"
   ]
  },
  {
   "cell_type": "code",
   "execution_count": 107,
   "metadata": {},
   "outputs": [
    {
     "name": "stdout",
     "output_type": "stream",
     "text": [
      "[[6 1 9]\n",
      " [7 4 9]\n",
      " [5 7 2]]\n",
      "2\n",
      "[1 2 0]\n",
      "[2 2 1]\n"
     ]
    }
   ],
   "source": [
    "print(a2)\n",
    "print(np.argmax(a2))\n",
    "print(np.argmax(a2, axis = 0))\n",
    "print(np.argmax(a2, axis = 1))"
   ]
  },
  {
   "cell_type": "code",
   "execution_count": 108,
   "metadata": {},
   "outputs": [
    {
     "name": "stdout",
     "output_type": "stream",
     "text": [
      "[[6 1 9]\n",
      " [7 4 9]\n",
      " [5 7 2]]\n",
      "6.0\n",
      "[6. 4. 9.]\n",
      "[6. 7. 5.]\n"
     ]
    }
   ],
   "source": [
    "print(a2)\n",
    "print(np.median(a2))\n",
    "print(np.median(a2, axis = 0))\n",
    "print(np.median(a2, axis = 1))"
   ]
  },
  {
   "cell_type": "code",
   "execution_count": 111,
   "metadata": {},
   "outputs": [
    {
     "name": "stdout",
     "output_type": "stream",
     "text": [
      "[ 1  2  3  4  5  6  7  8  9 10 11 12]\n",
      "[4.3 6.5 9.8]\n",
      "[4 6 9]\n",
      "[ 5  7 10]\n",
      "[ 4  7 10]\n",
      "[4.5 6.5 9.5]\n"
     ]
    }
   ],
   "source": [
    "a1 = np.arange(1, 13)\n",
    "print(a1)\n",
    "print(np.percentile(a1, [30, 50, 80], interpolation = \"linear\"))\n",
    "print(np.percentile(a1, [30, 50, 80], interpolation = \"lower\"))\n",
    "print(np.percentile(a1, [30, 50, 80], interpolation = \"higher\"))\n",
    "print(np.percentile(a1, [30, 50, 80], interpolation = \"nearest\"))\n",
    "print(np.percentile(a1, [30, 50, 80], interpolation = \"midpoint\"))"
   ]
  },
  {
   "cell_type": "code",
   "execution_count": 112,
   "metadata": {},
   "outputs": [
    {
     "name": "stdout",
     "output_type": "stream",
     "text": [
      "[[10  7  5]\n",
      " [ 3  2  1]]\n"
     ]
    }
   ],
   "source": [
    "a2 = np.array([[10, 7, 5], [3, 2, 1]])\n",
    "print(a2)"
   ]
  },
  {
   "cell_type": "code",
   "execution_count": 115,
   "metadata": {},
   "outputs": [
    {
     "name": "stdout",
     "output_type": "stream",
     "text": [
      "4.0\n",
      "[6.5 4.5 3. ]\n",
      "[7. 2.]\n"
     ]
    }
   ],
   "source": [
    "print(np.percentile(a2, 50))\n",
    "print(np.percentile(a2, 50, axis = 0))\n",
    "print(np.percentile(a2, 50, axis = 1))"
   ]
  },
  {
   "cell_type": "code",
   "execution_count": 117,
   "metadata": {},
   "outputs": [
    {
     "name": "stdout",
     "output_type": "stream",
     "text": [
      "True\n",
      "[ True  True  True]\n",
      "[False  True  True]\n"
     ]
    }
   ],
   "source": [
    "# any()\n",
    "\n",
    "a2 = np.array([[False, False, False],\n",
    "               [True, True, True],\n",
    "               [False, True, True]])\n",
    "print(np.any(a2))\n",
    "print(np.any(a2, axis = 0))\n",
    "print(np.any(a2, axis = 1))"
   ]
  },
  {
   "cell_type": "code",
   "execution_count": 118,
   "metadata": {},
   "outputs": [
    {
     "name": "stdout",
     "output_type": "stream",
     "text": [
      "False\n",
      "[False False False]\n",
      "[False  True False]\n"
     ]
    }
   ],
   "source": [
    "# all()\n",
    "\n",
    "print(np.all(a2))\n",
    "print(np.all(a2, axis = 0))\n",
    "print(np.all(a2, axis = 1))"
   ]
  },
  {
   "cell_type": "code",
   "execution_count": 119,
   "metadata": {},
   "outputs": [
    {
     "name": "stdout",
     "output_type": "stream",
     "text": [
      "[1 2 3 4 5 6 7 8 9]\n",
      "[False False False False  True False False False False]\n",
      "[ True  True  True  True False  True  True  True  True]\n",
      "[ True  True  True  True False False False False False]\n",
      "[ True  True  True  True  True False False False False]\n",
      "[False False False False False  True  True  True  True]\n",
      "[False False False False  True  True  True  True  True]\n"
     ]
    }
   ],
   "source": [
    "# 비교연산\n",
    "\n",
    "a1 = np.arange(1, 10)\n",
    "print(a1)\n",
    "print(a1 == 5)\n",
    "print(a1 != 5)\n",
    "print(a1 < 5)\n",
    "print(a1 <= 5)\n",
    "print(a1 > 5)\n",
    "print(a1 >= 5)"
   ]
  },
  {
   "cell_type": "code",
   "execution_count": 120,
   "metadata": {},
   "outputs": [
    {
     "name": "stdout",
     "output_type": "stream",
     "text": [
      "[3 1 7 7 6 8 1 2 2 6]\n"
     ]
    }
   ],
   "source": [
    "# 배열 정렬\n",
    "# np.sort(array) : 정렬된 배열의 복사본 생성, 원본 배열의 변경 없음\n",
    "# array.sort() : 원본 배열의 값이 변경됨\n",
    "\n",
    "a1 = np.random.randint(1, 10, size = 10)\n",
    "print(a1)"
   ]
  },
  {
   "cell_type": "code",
   "execution_count": 121,
   "metadata": {},
   "outputs": [
    {
     "name": "stdout",
     "output_type": "stream",
     "text": [
      "[1 1 2 2 3 6 6 7 7 8]\n",
      "[3 1 7 7 6 8 1 2 2 6]\n",
      "None\n",
      "[1 1 2 2 3 6 6 7 7 8]\n"
     ]
    }
   ],
   "source": [
    "print(np.sort(a1))\n",
    "print(a1)\n",
    "print(a1.sort())\n",
    "print(a1)"
   ]
  },
  {
   "cell_type": "code",
   "execution_count": 123,
   "metadata": {},
   "outputs": [
    {
     "name": "stdout",
     "output_type": "stream",
     "text": [
      "[9 1 3 9 1 1 2 1 1 6]\n",
      "[1 1 1 1 1 3 2 6 9 9]\n",
      "[1 1 3 1 1 1 2 6 9 9]\n"
     ]
    }
   ],
   "source": [
    "# 부분정렬 \n",
    "# partition(array, k) : 배열에서 k개의 작은 값을 선택하여 왼쪽에 배치\n",
    "# -k : k개의 큰 값을 오른쪽에 배치\n",
    "\n",
    "a1 = np.random.randint(1, 10, size = 10)\n",
    "print(a1)\n",
    "print(np.partition(a1, 3))\n",
    "print(np.partition(a1, -3))"
   ]
  },
  {
   "cell_type": "code",
   "execution_count": 124,
   "metadata": {},
   "outputs": [
    {
     "name": "stdout",
     "output_type": "stream",
     "text": [
      "[[7 8 7 2 1]\n",
      " [6 6 2 1 7]\n",
      " [2 6 6 9 6]\n",
      " [8 7 5 6 3]\n",
      " [6 7 1 1 8]]\n"
     ]
    }
   ],
   "source": [
    "# 배열 입출력\n",
    "\n",
    "a2 = np.random.randint(1, 10, size = (5, 5))\n",
    "print(a2)\n",
    "np.save(\"a\", a2)"
   ]
  },
  {
   "cell_type": "code",
   "execution_count": 125,
   "metadata": {},
   "outputs": [
    {
     "name": "stdout",
     "output_type": "stream",
     "text": [
      " C 드라이브의 볼륨에는 이름이 없습니다.\n",
      " 볼륨 일련 번호: 0CF3-A853\n",
      "\n",
      " C:\\Users\\wnsgm\\Documents\\준희\\Python\\Work\\datamining 디렉터리\n",
      "\n",
      "2022-03-25  오후 06:45    <DIR>          .\n",
      "2022-03-25  오후 06:45    <DIR>          ..\n",
      "2022-03-25  오후 04:48    <DIR>          .ipynb_checkpoints\n",
      "2022-03-25  오후 06:45               228 a.npy\n",
      "2022-03-25  오후 06:45            92,772 NumPy1.ipynb\n",
      "2022-03-21  오후 02:17           120,056 Pandas.ipynb\n",
      "               3개 파일             213,056 바이트\n",
      "               3개 디렉터리  399,454,216,192 바이트 남음\n"
     ]
    }
   ],
   "source": [
    "ls"
   ]
  },
  {
   "cell_type": "markdown",
   "metadata": {},
   "source": [
    "---"
   ]
  },
  {
   "cell_type": "markdown",
   "metadata": {
    "colab_type": "text",
    "id": "xBOsZ6EThyW5"
   },
   "source": [
    "# 참고문헌\n",
    "\n",
    "* NumPy, https://numpy.org/\n",
    "* Jake VanderPlas, \"Python Data Science Handbook\", O'Reilly\n",
    "* Wes Mckinney, \"Python for Data Analysis\", O'Reilly"
   ]
  }
 ],
 "metadata": {
  "colab": {
   "collapsed_sections": [],
   "name": "NumPy 한번에 제대로 배우기.ipynb",
   "provenance": [],
   "toc_visible": true
  },
  "kernelspec": {
   "display_name": "Python 3",
   "language": "python",
   "name": "python3"
  },
  "language_info": {
   "codemirror_mode": {
    "name": "ipython",
    "version": 3
   },
   "file_extension": ".py",
   "mimetype": "text/x-python",
   "name": "python",
   "nbconvert_exporter": "python",
   "pygments_lexer": "ipython3",
   "version": "3.8.8"
  }
 },
 "nbformat": 4,
 "nbformat_minor": 1
}
